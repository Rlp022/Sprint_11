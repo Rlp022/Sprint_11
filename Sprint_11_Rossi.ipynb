{
 "cells": [
  {
   "cell_type": "markdown",
   "metadata": {},
   "source": [
    "Hello Rossi!\n",
    "\n",
    "I’m happy to review your project today.\n",
    "I will mark your mistakes and give you some hints how it is possible to fix them. We are getting ready for real job, where your team leader/senior colleague will do exactly the same. Don't worry and study with pleasure! \n",
    "\n",
    "Below you will find my comments - **please do not move, modify or delete them**.\n",
    "\n",
    "You can find my comments in green, yellow or red boxes like this:\n",
    "\n",
    "<div class=\"alert alert-block alert-success\">\n",
    "<b>Reviewer's comment</b> <a class=\"tocSkip\"></a>\n",
    "\n",
    "Success. Everything is done succesfully.\n",
    "</div>\n",
    "\n",
    "<div class=\"alert alert-block alert-warning\">\n",
    "<b>Reviewer's comment</b> <a class=\"tocSkip\"></a>\n",
    "\n",
    "Remarks. Some recommendations.\n",
    "</div>\n",
    "\n",
    "<div class=\"alert alert-block alert-danger\">\n",
    "\n",
    "<b>Reviewer's comment</b> <a class=\"tocSkip\"></a>\n",
    "\n",
    "Needs fixing. The block requires some corrections. Work can't be accepted with the red comments.\n",
    "</div>\n",
    "\n",
    "You can answer me by using this:\n",
    "\n",
    "<div class=\"alert alert-block alert-info\">\n",
    "<b>Student answer.</b> <a class=\"tocSkip\"></a>\n",
    "\n",
    "Text here.\n",
    "</div>"
   ]
  },
  {
   "cell_type": "markdown",
   "metadata": {},
   "source": [
    "# Statement"
   ]
  },
  {
   "cell_type": "markdown",
   "metadata": {},
   "source": [
    "The Sure Tomorrow insurance company wants to solve several tasks with the help of Machine Learning and you are asked to evaluate that possibility.\n",
    "\n",
    "- Task 1: Find customers who are similar to a given customer. This will help the company's agents with marketing.\n",
    "- Task 2: Predict whether a new customer is likely to receive an insurance benefit. Can a prediction model do better than a dummy model?\n",
    "- Task 3: Predict the number of insurance benefits a new customer is likely to receive using a linear regression model.\n",
    "- Task 4: Protect clients' personal data without breaking the model from the previous task. It's necessary to develop a data transformation algorithm that would make it hard to recover personal information if the data fell into the wrong hands. This is called data masking, or data obfuscation. But the data should be protected in such a way that the quality of machine learning models doesn't suffer. You don't need to pick the best model, just prove that the algorithm works correctly."
   ]
  },
  {
   "cell_type": "markdown",
   "metadata": {},
   "source": [
    "# Data Preprocessing & Exploration\n",
    "\n",
    "## Initialization"
   ]
  },
  {
   "cell_type": "code",
   "execution_count": 68,
   "metadata": {},
   "outputs": [
    {
     "name": "stdout",
     "output_type": "stream",
     "text": [
      "\u001b[33mWARNING: Ignoring invalid distribution -cikit-learn (/opt/conda/envs/python3/lib/python3.9/site-packages)\u001b[0m\u001b[33m\n",
      "\u001b[0mRequirement already satisfied: scikit-learn in /opt/conda/envs/python3/lib/python3.9/site-packages (0.24.1)\n",
      "Collecting scikit-learn\n",
      "  Using cached scikit_learn-1.5.1-cp39-cp39-manylinux_2_17_x86_64.manylinux2014_x86_64.whl.metadata (12 kB)\n",
      "Requirement already satisfied: numpy>=1.19.5 in /opt/conda/envs/python3/lib/python3.9/site-packages (from scikit-learn) (1.21.2)\n",
      "Requirement already satisfied: scipy>=1.6.0 in /opt/conda/envs/python3/lib/python3.9/site-packages (from scikit-learn) (1.10.1)\n",
      "Requirement already satisfied: joblib>=1.2.0 in /opt/conda/envs/python3/lib/python3.9/site-packages (from scikit-learn) (1.4.2)\n",
      "Requirement already satisfied: threadpoolctl>=3.1.0 in /opt/conda/envs/python3/lib/python3.9/site-packages (from scikit-learn) (3.5.0)\n",
      "Using cached scikit_learn-1.5.1-cp39-cp39-manylinux_2_17_x86_64.manylinux2014_x86_64.whl (13.4 MB)\n",
      "\u001b[33mWARNING: Ignoring invalid distribution -cikit-learn (/opt/conda/envs/python3/lib/python3.9/site-packages)\u001b[0m\u001b[33m\n",
      "\u001b[0mInstalling collected packages: scikit-learn\n",
      "  Attempting uninstall: scikit-learn\n",
      "    Found existing installation: scikit-learn 0.24.1\n",
      "    Uninstalling scikit-learn-0.24.1:\n",
      "\u001b[31mERROR: Could not install packages due to an OSError: [Errno 13] Permission denied: 'COPYING'\n",
      "Consider using the `--user` option or check the permissions.\n",
      "\u001b[0m\u001b[31m\n",
      "\u001b[0mNote: you may need to restart the kernel to use updated packages.\n"
     ]
    }
   ],
   "source": [
    "pip install scikit-learn --upgrade"
   ]
  },
  {
   "cell_type": "code",
   "execution_count": 69,
   "metadata": {},
   "outputs": [],
   "source": [
    "import numpy as np\n",
    "import pandas as pd\n",
    "\n",
    "import math\n",
    "import seaborn as sns\n",
    "import matplotlib.pyplot as plt\n",
    "import sklearn.linear_model\n",
    "import sklearn.metrics\n",
    "from sklearn.neighbors import NearestNeighbors\n",
    "import sklearn.preprocessing\n",
    "from sklearn.neighbors import KNeighborsClassifier\n",
    "from sklearn.model_selection import train_test_split\n",
    "from sklearn.metrics import confusion_matrix\n",
    "from IPython.display import display\n",
    "from sklearn.preprocessing import StandardScaler"
   ]
  },
  {
   "cell_type": "markdown",
   "metadata": {},
   "source": [
    "<div class=\"alert alert-block alert-warning\">\n",
    "<b>Reviewer's comment</b> <a class=\"tocSkip\"></a>\n",
    "\n",
    "Code for libraries updating should be placed before imports and not after. If you place it after imports, it doesn't affect on the imported libraries.\n",
    "</div>"
   ]
  },
  {
   "cell_type": "markdown",
   "metadata": {},
   "source": [
    "## Load Data"
   ]
  },
  {
   "cell_type": "markdown",
   "metadata": {},
   "source": [
    "Load data and conduct a basic check that it's free from obvious issues."
   ]
  },
  {
   "cell_type": "code",
   "execution_count": 70,
   "metadata": {},
   "outputs": [],
   "source": [
    "df = pd.read_csv('/datasets/insurance_us.csv')"
   ]
  },
  {
   "cell_type": "markdown",
   "metadata": {},
   "source": [
    "We rename the colums to make the code look more consistent with its style."
   ]
  },
  {
   "cell_type": "code",
   "execution_count": 71,
   "metadata": {},
   "outputs": [],
   "source": [
    "df = df.rename(columns={'Gender': 'gender', 'Age': 'age', 'Salary': 'income', 'Family members': 'family_members', 'Insurance benefits': 'insurance_benefits'})"
   ]
  },
  {
   "cell_type": "code",
   "execution_count": 72,
   "metadata": {},
   "outputs": [
    {
     "data": {
      "text/html": [
       "<div>\n",
       "<style scoped>\n",
       "    .dataframe tbody tr th:only-of-type {\n",
       "        vertical-align: middle;\n",
       "    }\n",
       "\n",
       "    .dataframe tbody tr th {\n",
       "        vertical-align: top;\n",
       "    }\n",
       "\n",
       "    .dataframe thead th {\n",
       "        text-align: right;\n",
       "    }\n",
       "</style>\n",
       "<table border=\"1\" class=\"dataframe\">\n",
       "  <thead>\n",
       "    <tr style=\"text-align: right;\">\n",
       "      <th></th>\n",
       "      <th>gender</th>\n",
       "      <th>age</th>\n",
       "      <th>income</th>\n",
       "      <th>family_members</th>\n",
       "      <th>insurance_benefits</th>\n",
       "    </tr>\n",
       "  </thead>\n",
       "  <tbody>\n",
       "    <tr>\n",
       "      <th>3777</th>\n",
       "      <td>1</td>\n",
       "      <td>23.0</td>\n",
       "      <td>38400.0</td>\n",
       "      <td>1</td>\n",
       "      <td>0</td>\n",
       "    </tr>\n",
       "    <tr>\n",
       "      <th>2824</th>\n",
       "      <td>1</td>\n",
       "      <td>40.0</td>\n",
       "      <td>41900.0</td>\n",
       "      <td>1</td>\n",
       "      <td>0</td>\n",
       "    </tr>\n",
       "    <tr>\n",
       "      <th>573</th>\n",
       "      <td>1</td>\n",
       "      <td>45.0</td>\n",
       "      <td>27200.0</td>\n",
       "      <td>1</td>\n",
       "      <td>1</td>\n",
       "    </tr>\n",
       "    <tr>\n",
       "      <th>1208</th>\n",
       "      <td>0</td>\n",
       "      <td>26.0</td>\n",
       "      <td>32100.0</td>\n",
       "      <td>1</td>\n",
       "      <td>0</td>\n",
       "    </tr>\n",
       "    <tr>\n",
       "      <th>3586</th>\n",
       "      <td>0</td>\n",
       "      <td>30.0</td>\n",
       "      <td>33700.0</td>\n",
       "      <td>1</td>\n",
       "      <td>0</td>\n",
       "    </tr>\n",
       "    <tr>\n",
       "      <th>1587</th>\n",
       "      <td>0</td>\n",
       "      <td>22.0</td>\n",
       "      <td>34200.0</td>\n",
       "      <td>2</td>\n",
       "      <td>0</td>\n",
       "    </tr>\n",
       "    <tr>\n",
       "      <th>2584</th>\n",
       "      <td>1</td>\n",
       "      <td>20.0</td>\n",
       "      <td>33600.0</td>\n",
       "      <td>0</td>\n",
       "      <td>0</td>\n",
       "    </tr>\n",
       "    <tr>\n",
       "      <th>2875</th>\n",
       "      <td>1</td>\n",
       "      <td>35.0</td>\n",
       "      <td>40500.0</td>\n",
       "      <td>3</td>\n",
       "      <td>0</td>\n",
       "    </tr>\n",
       "    <tr>\n",
       "      <th>4370</th>\n",
       "      <td>1</td>\n",
       "      <td>32.0</td>\n",
       "      <td>21800.0</td>\n",
       "      <td>1</td>\n",
       "      <td>0</td>\n",
       "    </tr>\n",
       "    <tr>\n",
       "      <th>1863</th>\n",
       "      <td>0</td>\n",
       "      <td>46.0</td>\n",
       "      <td>38900.0</td>\n",
       "      <td>1</td>\n",
       "      <td>1</td>\n",
       "    </tr>\n",
       "  </tbody>\n",
       "</table>\n",
       "</div>"
      ],
      "text/plain": [
       "      gender   age   income  family_members  insurance_benefits\n",
       "3777       1  23.0  38400.0               1                   0\n",
       "2824       1  40.0  41900.0               1                   0\n",
       "573        1  45.0  27200.0               1                   1\n",
       "1208       0  26.0  32100.0               1                   0\n",
       "3586       0  30.0  33700.0               1                   0\n",
       "1587       0  22.0  34200.0               2                   0\n",
       "2584       1  20.0  33600.0               0                   0\n",
       "2875       1  35.0  40500.0               3                   0\n",
       "4370       1  32.0  21800.0               1                   0\n",
       "1863       0  46.0  38900.0               1                   1"
      ]
     },
     "execution_count": 72,
     "metadata": {},
     "output_type": "execute_result"
    }
   ],
   "source": [
    "df.sample(10)"
   ]
  },
  {
   "cell_type": "code",
   "execution_count": 73,
   "metadata": {},
   "outputs": [
    {
     "name": "stdout",
     "output_type": "stream",
     "text": [
      "<class 'pandas.core.frame.DataFrame'>\n",
      "RangeIndex: 5000 entries, 0 to 4999\n",
      "Data columns (total 5 columns):\n",
      " #   Column              Non-Null Count  Dtype  \n",
      "---  ------              --------------  -----  \n",
      " 0   gender              5000 non-null   int64  \n",
      " 1   age                 5000 non-null   float64\n",
      " 2   income              5000 non-null   float64\n",
      " 3   family_members      5000 non-null   int64  \n",
      " 4   insurance_benefits  5000 non-null   int64  \n",
      "dtypes: float64(2), int64(3)\n",
      "memory usage: 195.4 KB\n"
     ]
    }
   ],
   "source": [
    "df.info()"
   ]
  },
  {
   "cell_type": "code",
   "execution_count": 74,
   "metadata": {},
   "outputs": [],
   "source": [
    "# we may want to fix the age type (from float to int) though this is not critical\n",
    "\n",
    "# write your conversion here if you choose:\n",
    "df['age'] = df['age'].astype(int)"
   ]
  },
  {
   "cell_type": "code",
   "execution_count": 75,
   "metadata": {},
   "outputs": [
    {
     "data": {
      "text/plain": [
       "gender                  int64\n",
       "age                     int64\n",
       "income                float64\n",
       "family_members          int64\n",
       "insurance_benefits      int64\n",
       "dtype: object"
      ]
     },
     "execution_count": 75,
     "metadata": {},
     "output_type": "execute_result"
    }
   ],
   "source": [
    "# check to see that the conversion was successful\n",
    "df.dtypes"
   ]
  },
  {
   "cell_type": "code",
   "execution_count": 76,
   "metadata": {},
   "outputs": [
    {
     "data": {
      "text/html": [
       "<div>\n",
       "<style scoped>\n",
       "    .dataframe tbody tr th:only-of-type {\n",
       "        vertical-align: middle;\n",
       "    }\n",
       "\n",
       "    .dataframe tbody tr th {\n",
       "        vertical-align: top;\n",
       "    }\n",
       "\n",
       "    .dataframe thead th {\n",
       "        text-align: right;\n",
       "    }\n",
       "</style>\n",
       "<table border=\"1\" class=\"dataframe\">\n",
       "  <thead>\n",
       "    <tr style=\"text-align: right;\">\n",
       "      <th></th>\n",
       "      <th>gender</th>\n",
       "      <th>age</th>\n",
       "      <th>income</th>\n",
       "      <th>family_members</th>\n",
       "      <th>insurance_benefits</th>\n",
       "    </tr>\n",
       "  </thead>\n",
       "  <tbody>\n",
       "    <tr>\n",
       "      <th>count</th>\n",
       "      <td>5000.000000</td>\n",
       "      <td>5000.000000</td>\n",
       "      <td>5000.000000</td>\n",
       "      <td>5000.000000</td>\n",
       "      <td>5000.000000</td>\n",
       "    </tr>\n",
       "    <tr>\n",
       "      <th>mean</th>\n",
       "      <td>0.499000</td>\n",
       "      <td>30.952800</td>\n",
       "      <td>39916.360000</td>\n",
       "      <td>1.194200</td>\n",
       "      <td>0.148000</td>\n",
       "    </tr>\n",
       "    <tr>\n",
       "      <th>std</th>\n",
       "      <td>0.500049</td>\n",
       "      <td>8.440807</td>\n",
       "      <td>9900.083569</td>\n",
       "      <td>1.091387</td>\n",
       "      <td>0.463183</td>\n",
       "    </tr>\n",
       "    <tr>\n",
       "      <th>min</th>\n",
       "      <td>0.000000</td>\n",
       "      <td>18.000000</td>\n",
       "      <td>5300.000000</td>\n",
       "      <td>0.000000</td>\n",
       "      <td>0.000000</td>\n",
       "    </tr>\n",
       "    <tr>\n",
       "      <th>25%</th>\n",
       "      <td>0.000000</td>\n",
       "      <td>24.000000</td>\n",
       "      <td>33300.000000</td>\n",
       "      <td>0.000000</td>\n",
       "      <td>0.000000</td>\n",
       "    </tr>\n",
       "    <tr>\n",
       "      <th>50%</th>\n",
       "      <td>0.000000</td>\n",
       "      <td>30.000000</td>\n",
       "      <td>40200.000000</td>\n",
       "      <td>1.000000</td>\n",
       "      <td>0.000000</td>\n",
       "    </tr>\n",
       "    <tr>\n",
       "      <th>75%</th>\n",
       "      <td>1.000000</td>\n",
       "      <td>37.000000</td>\n",
       "      <td>46600.000000</td>\n",
       "      <td>2.000000</td>\n",
       "      <td>0.000000</td>\n",
       "    </tr>\n",
       "    <tr>\n",
       "      <th>max</th>\n",
       "      <td>1.000000</td>\n",
       "      <td>65.000000</td>\n",
       "      <td>79000.000000</td>\n",
       "      <td>6.000000</td>\n",
       "      <td>5.000000</td>\n",
       "    </tr>\n",
       "  </tbody>\n",
       "</table>\n",
       "</div>"
      ],
      "text/plain": [
       "            gender          age        income  family_members  \\\n",
       "count  5000.000000  5000.000000   5000.000000     5000.000000   \n",
       "mean      0.499000    30.952800  39916.360000        1.194200   \n",
       "std       0.500049     8.440807   9900.083569        1.091387   \n",
       "min       0.000000    18.000000   5300.000000        0.000000   \n",
       "25%       0.000000    24.000000  33300.000000        0.000000   \n",
       "50%       0.000000    30.000000  40200.000000        1.000000   \n",
       "75%       1.000000    37.000000  46600.000000        2.000000   \n",
       "max       1.000000    65.000000  79000.000000        6.000000   \n",
       "\n",
       "       insurance_benefits  \n",
       "count         5000.000000  \n",
       "mean             0.148000  \n",
       "std              0.463183  \n",
       "min              0.000000  \n",
       "25%              0.000000  \n",
       "50%              0.000000  \n",
       "75%              0.000000  \n",
       "max              5.000000  "
      ]
     },
     "metadata": {},
     "output_type": "display_data"
    }
   ],
   "source": [
    "# now have a look at the data's descriptive statistics. \n",
    "# Does everything look okay?\n",
    "\n",
    "display(df.describe())"
   ]
  },
  {
   "cell_type": "code",
   "execution_count": 77,
   "metadata": {},
   "outputs": [
    {
     "data": {
      "text/plain": [
       "<AxesSubplot:xlabel='age', ylabel='Density'>"
      ]
     },
     "execution_count": 77,
     "metadata": {},
     "output_type": "execute_result"
    },
    {
     "data": {
      "image/png": "[encoded data removed]",
      "text/plain": [
       "<Figure size 640x480 with 1 Axes>"
      ]
     },
     "metadata": {},
     "output_type": "display_data"
    }
   ],
   "source": [
    "sns.distplot(df['age'])"
   ]
  },
  {
   "cell_type": "code",
   "execution_count": 78,
   "metadata": {},
   "outputs": [
    {
     "data": {
      "text/plain": [
       "<AxesSubplot:xlabel='income', ylabel='Density'>"
      ]
     },
     "execution_count": 78,
     "metadata": {},
     "output_type": "execute_result"
    },
    {
     "data": {
      "image/png": "[encoded data removed]",
      "text/plain": [
       "<Figure size 640x480 with 1 Axes>"
      ]
     },
     "metadata": {},
     "output_type": "display_data"
    }
   ],
   "source": [
    "sns.distplot(df['income'])"
   ]
  },
  {
   "cell_type": "markdown",
   "metadata": {},
   "source": [
    "### Conclusion "
   ]
  },
  {
   "cell_type": "markdown",
   "metadata": {},
   "source": [
    "The dataset has no missing or null values. Despite the presence of some outliers, the mean and median ages in the age column are identical. Conversely, the income data is negatively skewed, with the median income being higher than the mean."
   ]
  },
  {
   "cell_type": "markdown",
   "metadata": {},
   "source": [
    "<div class=\"alert alert-block alert-success\">\n",
    "<b>Reviewer's comment</b> <a class=\"tocSkip\"></a>\n",
    "\n",
    "Correct\n",
    "</div>"
   ]
  },
  {
   "cell_type": "markdown",
   "metadata": {},
   "source": [
    "## EDA"
   ]
  },
  {
   "cell_type": "markdown",
   "metadata": {},
   "source": [
    "Let's quickly check whether there are certain groups of customers by looking at the pair plot."
   ]
  },
  {
   "cell_type": "code",
   "execution_count": 79,
   "metadata": {},
   "outputs": [
    {
     "data": {
      "image/png": "[encoded data removed]",
      "text/plain": [
       "<Figure size 1200x1200 with 30 Axes>"
      ]
     },
     "metadata": {},
     "output_type": "display_data"
    }
   ],
   "source": [
    "g = sns.pairplot(df, kind='hist')\n",
    "g.fig.set_size_inches(12, 12)"
   ]
  },
  {
   "cell_type": "markdown",
   "metadata": {},
   "source": [
    "Ok, it is a bit difficult to spot obvious groups (clusters) as it is difficult to combine several variables simultaneously (to analyze multivariate distributions). That's where LA and ML can be quite handy."
   ]
  },
  {
   "cell_type": "markdown",
   "metadata": {},
   "source": [
    "# Task 1. Similar Customers"
   ]
  },
  {
   "cell_type": "markdown",
   "metadata": {},
   "source": [
    "In the language of ML, it is necessary to develop a procedure that returns k nearest neighbors (objects) for a given object based on the distance between the objects.\n",
    "\n",
    "You may want to review the following lessons (chapter -> lesson)\n",
    "- Distance Between Vectors -> Euclidean Distance\n",
    "- Distance Between Vectors -> Manhattan Distance\n",
    "\n",
    "To solve the task, we can try different distance metrics."
   ]
  },
  {
   "cell_type": "markdown",
   "metadata": {},
   "source": [
    "Write a function that returns k nearest neighbors for an $n^{th}$ object based on a specified distance metric. The number of received insurance benefits should not be taken into account for this task. \n",
    "\n",
    "You can use a ready implementation of the kNN algorithm from scikit-learn (check [the link](https://scikit-learn.org/stable/modules/generated/sklearn.neighbors.NearestNeighbors.html#sklearn.neighbors.NearestNeighbors)) or use your own.\n",
    "\n",
    "Test it for four combination of two cases\n",
    "- Scaling\n",
    "  - the data is not scaled\n",
    "  - the data is scaled with the [MaxAbsScaler](https://scikit-learn.org/stable/modules/generated/sklearn.preprocessing.MaxAbsScaler.html) scaler\n",
    "- Distance Metrics\n",
    "  - Euclidean\n",
    "  - Manhattan\n",
    "\n",
    "Answer these questions:\n",
    "- Does the data being not scaled affect the kNN algorithm? If so, how does that appear?\n",
    "- How similar are the results using the Manhattan distance metric (regardless of the scaling)?"
   ]
  },
  {
   "cell_type": "code",
   "execution_count": 80,
   "metadata": {},
   "outputs": [],
   "source": [
    "feature_names = ['gender', 'age', 'income', 'family_members']"
   ]
  },
  {
   "cell_type": "code",
   "execution_count": 81,
   "metadata": {},
   "outputs": [],
   "source": [
    "def get_knn(df, n, k, metric):\n",
    "    \n",
    "    \"\"\"\n",
    "    Returns k nearest neighbors\n",
    "\n",
    "    :param df: pandas DataFrame used to find similar objects within\n",
    "    :param n: object no for which the nearest neighbours are looked for\n",
    "    :param k: the number of the nearest neighbours to return\n",
    "    :param metric: name of distance metric\n",
    "    \"\"\"\n",
    "\n",
    "    nbrs = NearestNeighbors(n_neighbors= k, metric = metric )\n",
    "    nbrs.fit(df[feature_names].values)\n",
    "    nbrs_distances, nbrs_indices = nbrs.kneighbors([df.iloc[n][feature_names]], \n",
    "                                                   k, return_distance=True)\n",
    "    \n",
    "    df_res = pd.concat([\n",
    "        df.iloc[nbrs_indices[0]], \n",
    "        pd.DataFrame(nbrs_distances.T, index=nbrs_indices[0], columns=['distance'])\n",
    "        ], axis=1)\n",
    "    \n",
    "    return df_res"
   ]
  },
  {
   "cell_type": "markdown",
   "metadata": {},
   "source": [
    "Scaling the data."
   ]
  },
  {
   "cell_type": "code",
   "execution_count": 82,
   "metadata": {},
   "outputs": [],
   "source": [
    "feature_names = ['gender', 'age', 'income', 'family_members']\n",
    "\n",
    "transformer_mas = sklearn.preprocessing.MaxAbsScaler().fit(df[feature_names].to_numpy())\n",
    "\n",
    "df_scaled = df.copy()\n",
    "df_scaled.loc[:, feature_names] = transformer_mas.transform(df[feature_names].to_numpy())"
   ]
  },
  {
   "cell_type": "code",
   "execution_count": 83,
   "metadata": {},
   "outputs": [
    {
     "data": {
      "text/html": [
       "<div>\n",
       "<style scoped>\n",
       "    .dataframe tbody tr th:only-of-type {\n",
       "        vertical-align: middle;\n",
       "    }\n",
       "\n",
       "    .dataframe tbody tr th {\n",
       "        vertical-align: top;\n",
       "    }\n",
       "\n",
       "    .dataframe thead th {\n",
       "        text-align: right;\n",
       "    }\n",
       "</style>\n",
       "<table border=\"1\" class=\"dataframe\">\n",
       "  <thead>\n",
       "    <tr style=\"text-align: right;\">\n",
       "      <th></th>\n",
       "      <th>gender</th>\n",
       "      <th>age</th>\n",
       "      <th>income</th>\n",
       "      <th>family_members</th>\n",
       "      <th>insurance_benefits</th>\n",
       "    </tr>\n",
       "  </thead>\n",
       "  <tbody>\n",
       "    <tr>\n",
       "      <th>450</th>\n",
       "      <td>0.0</td>\n",
       "      <td>0.446154</td>\n",
       "      <td>0.592405</td>\n",
       "      <td>0.000000</td>\n",
       "      <td>0</td>\n",
       "    </tr>\n",
       "    <tr>\n",
       "      <th>3475</th>\n",
       "      <td>0.0</td>\n",
       "      <td>0.646154</td>\n",
       "      <td>0.740506</td>\n",
       "      <td>0.166667</td>\n",
       "      <td>1</td>\n",
       "    </tr>\n",
       "    <tr>\n",
       "      <th>3544</th>\n",
       "      <td>1.0</td>\n",
       "      <td>0.523077</td>\n",
       "      <td>0.393671</td>\n",
       "      <td>0.333333</td>\n",
       "      <td>0</td>\n",
       "    </tr>\n",
       "    <tr>\n",
       "      <th>2072</th>\n",
       "      <td>0.0</td>\n",
       "      <td>0.292308</td>\n",
       "      <td>0.406329</td>\n",
       "      <td>0.000000</td>\n",
       "      <td>0</td>\n",
       "    </tr>\n",
       "    <tr>\n",
       "      <th>4010</th>\n",
       "      <td>0.0</td>\n",
       "      <td>0.861538</td>\n",
       "      <td>0.631646</td>\n",
       "      <td>0.166667</td>\n",
       "      <td>3</td>\n",
       "    </tr>\n",
       "  </tbody>\n",
       "</table>\n",
       "</div>"
      ],
      "text/plain": [
       "      gender       age    income  family_members  insurance_benefits\n",
       "450      0.0  0.446154  0.592405        0.000000                   0\n",
       "3475     0.0  0.646154  0.740506        0.166667                   1\n",
       "3544     1.0  0.523077  0.393671        0.333333                   0\n",
       "2072     0.0  0.292308  0.406329        0.000000                   0\n",
       "4010     0.0  0.861538  0.631646        0.166667                   3"
      ]
     },
     "execution_count": 83,
     "metadata": {},
     "output_type": "execute_result"
    }
   ],
   "source": [
    "df_scaled.sample(5)"
   ]
  },
  {
   "cell_type": "markdown",
   "metadata": {},
   "source": [
    "Now, let's get similar records for a given one for every combination"
   ]
  },
  {
   "cell_type": "code",
   "execution_count": 84,
   "metadata": {},
   "outputs": [
    {
     "data": {
      "text/html": [
       "<div>\n",
       "<style scoped>\n",
       "    .dataframe tbody tr th:only-of-type {\n",
       "        vertical-align: middle;\n",
       "    }\n",
       "\n",
       "    .dataframe tbody tr th {\n",
       "        vertical-align: top;\n",
       "    }\n",
       "\n",
       "    .dataframe thead th {\n",
       "        text-align: right;\n",
       "    }\n",
       "</style>\n",
       "<table border=\"1\" class=\"dataframe\">\n",
       "  <thead>\n",
       "    <tr style=\"text-align: right;\">\n",
       "      <th></th>\n",
       "      <th>gender</th>\n",
       "      <th>age</th>\n",
       "      <th>income</th>\n",
       "      <th>family_members</th>\n",
       "      <th>insurance_benefits</th>\n",
       "      <th>distance</th>\n",
       "    </tr>\n",
       "  </thead>\n",
       "  <tbody>\n",
       "    <tr>\n",
       "      <th>4</th>\n",
       "      <td>1.0</td>\n",
       "      <td>0.430769</td>\n",
       "      <td>0.330380</td>\n",
       "      <td>0.0</td>\n",
       "      <td>0</td>\n",
       "      <td>0.000000</td>\n",
       "    </tr>\n",
       "    <tr>\n",
       "      <th>349</th>\n",
       "      <td>1.0</td>\n",
       "      <td>0.430769</td>\n",
       "      <td>0.322785</td>\n",
       "      <td>0.0</td>\n",
       "      <td>0</td>\n",
       "      <td>0.007595</td>\n",
       "    </tr>\n",
       "    <tr>\n",
       "      <th>3934</th>\n",
       "      <td>1.0</td>\n",
       "      <td>0.430769</td>\n",
       "      <td>0.321519</td>\n",
       "      <td>0.0</td>\n",
       "      <td>0</td>\n",
       "      <td>0.008861</td>\n",
       "    </tr>\n",
       "    <tr>\n",
       "      <th>3665</th>\n",
       "      <td>1.0</td>\n",
       "      <td>0.430769</td>\n",
       "      <td>0.317722</td>\n",
       "      <td>0.0</td>\n",
       "      <td>0</td>\n",
       "      <td>0.012658</td>\n",
       "    </tr>\n",
       "    <tr>\n",
       "      <th>1435</th>\n",
       "      <td>1.0</td>\n",
       "      <td>0.446154</td>\n",
       "      <td>0.331646</td>\n",
       "      <td>0.0</td>\n",
       "      <td>0</td>\n",
       "      <td>0.016650</td>\n",
       "    </tr>\n",
       "    <tr>\n",
       "      <th>2448</th>\n",
       "      <td>1.0</td>\n",
       "      <td>0.446154</td>\n",
       "      <td>0.324051</td>\n",
       "      <td>0.0</td>\n",
       "      <td>0</td>\n",
       "      <td>0.021714</td>\n",
       "    </tr>\n",
       "    <tr>\n",
       "      <th>1774</th>\n",
       "      <td>1.0</td>\n",
       "      <td>0.400000</td>\n",
       "      <td>0.331646</td>\n",
       "      <td>0.0</td>\n",
       "      <td>0</td>\n",
       "      <td>0.032035</td>\n",
       "    </tr>\n",
       "  </tbody>\n",
       "</table>\n",
       "</div>"
      ],
      "text/plain": [
       "      gender       age    income  family_members  insurance_benefits  distance\n",
       "4        1.0  0.430769  0.330380             0.0                   0  0.000000\n",
       "349      1.0  0.430769  0.322785             0.0                   0  0.007595\n",
       "3934     1.0  0.430769  0.321519             0.0                   0  0.008861\n",
       "3665     1.0  0.430769  0.317722             0.0                   0  0.012658\n",
       "1435     1.0  0.446154  0.331646             0.0                   0  0.016650\n",
       "2448     1.0  0.446154  0.324051             0.0                   0  0.021714\n",
       "1774     1.0  0.400000  0.331646             0.0                   0  0.032035"
      ]
     },
     "execution_count": 84,
     "metadata": {},
     "output_type": "execute_result"
    }
   ],
   "source": [
    "man_scaled = get_knn(df_scaled, 4, 7, 'manhattan')\n",
    "man_scaled"
   ]
  },
  {
   "cell_type": "code",
   "execution_count": 85,
   "metadata": {
    "scrolled": true
   },
   "outputs": [
    {
     "data": {
      "text/html": [
       "<div>\n",
       "<style scoped>\n",
       "    .dataframe tbody tr th:only-of-type {\n",
       "        vertical-align: middle;\n",
       "    }\n",
       "\n",
       "    .dataframe tbody tr th {\n",
       "        vertical-align: top;\n",
       "    }\n",
       "\n",
       "    .dataframe thead th {\n",
       "        text-align: right;\n",
       "    }\n",
       "</style>\n",
       "<table border=\"1\" class=\"dataframe\">\n",
       "  <thead>\n",
       "    <tr style=\"text-align: right;\">\n",
       "      <th></th>\n",
       "      <th>gender</th>\n",
       "      <th>age</th>\n",
       "      <th>income</th>\n",
       "      <th>family_members</th>\n",
       "      <th>insurance_benefits</th>\n",
       "      <th>distance</th>\n",
       "    </tr>\n",
       "  </thead>\n",
       "  <tbody>\n",
       "    <tr>\n",
       "      <th>4</th>\n",
       "      <td>1.0</td>\n",
       "      <td>0.430769</td>\n",
       "      <td>0.330380</td>\n",
       "      <td>0.0</td>\n",
       "      <td>0</td>\n",
       "      <td>0.000000</td>\n",
       "    </tr>\n",
       "    <tr>\n",
       "      <th>349</th>\n",
       "      <td>1.0</td>\n",
       "      <td>0.430769</td>\n",
       "      <td>0.322785</td>\n",
       "      <td>0.0</td>\n",
       "      <td>0</td>\n",
       "      <td>0.007595</td>\n",
       "    </tr>\n",
       "    <tr>\n",
       "      <th>3934</th>\n",
       "      <td>1.0</td>\n",
       "      <td>0.430769</td>\n",
       "      <td>0.321519</td>\n",
       "      <td>0.0</td>\n",
       "      <td>0</td>\n",
       "      <td>0.008861</td>\n",
       "    </tr>\n",
       "    <tr>\n",
       "      <th>3665</th>\n",
       "      <td>1.0</td>\n",
       "      <td>0.430769</td>\n",
       "      <td>0.317722</td>\n",
       "      <td>0.0</td>\n",
       "      <td>0</td>\n",
       "      <td>0.012658</td>\n",
       "    </tr>\n",
       "    <tr>\n",
       "      <th>1435</th>\n",
       "      <td>1.0</td>\n",
       "      <td>0.446154</td>\n",
       "      <td>0.331646</td>\n",
       "      <td>0.0</td>\n",
       "      <td>0</td>\n",
       "      <td>0.015437</td>\n",
       "    </tr>\n",
       "    <tr>\n",
       "      <th>2448</th>\n",
       "      <td>1.0</td>\n",
       "      <td>0.446154</td>\n",
       "      <td>0.324051</td>\n",
       "      <td>0.0</td>\n",
       "      <td>0</td>\n",
       "      <td>0.016636</td>\n",
       "    </tr>\n",
       "    <tr>\n",
       "      <th>1401</th>\n",
       "      <td>1.0</td>\n",
       "      <td>0.446154</td>\n",
       "      <td>0.351899</td>\n",
       "      <td>0.0</td>\n",
       "      <td>0</td>\n",
       "      <td>0.026453</td>\n",
       "    </tr>\n",
       "  </tbody>\n",
       "</table>\n",
       "</div>"
      ],
      "text/plain": [
       "      gender       age    income  family_members  insurance_benefits  distance\n",
       "4        1.0  0.430769  0.330380             0.0                   0  0.000000\n",
       "349      1.0  0.430769  0.322785             0.0                   0  0.007595\n",
       "3934     1.0  0.430769  0.321519             0.0                   0  0.008861\n",
       "3665     1.0  0.430769  0.317722             0.0                   0  0.012658\n",
       "1435     1.0  0.446154  0.331646             0.0                   0  0.015437\n",
       "2448     1.0  0.446154  0.324051             0.0                   0  0.016636\n",
       "1401     1.0  0.446154  0.351899             0.0                   0  0.026453"
      ]
     },
     "execution_count": 85,
     "metadata": {},
     "output_type": "execute_result"
    }
   ],
   "source": [
    "euc_scaled = get_knn(df_scaled, 4, 7, 'euclidean')\n",
    "euc_scaled"
   ]
  },
  {
   "cell_type": "code",
   "execution_count": 86,
   "metadata": {},
   "outputs": [
    {
     "data": {
      "text/html": [
       "<div>\n",
       "<style scoped>\n",
       "    .dataframe tbody tr th:only-of-type {\n",
       "        vertical-align: middle;\n",
       "    }\n",
       "\n",
       "    .dataframe tbody tr th {\n",
       "        vertical-align: top;\n",
       "    }\n",
       "\n",
       "    .dataframe thead th {\n",
       "        text-align: right;\n",
       "    }\n",
       "</style>\n",
       "<table border=\"1\" class=\"dataframe\">\n",
       "  <thead>\n",
       "    <tr style=\"text-align: right;\">\n",
       "      <th></th>\n",
       "      <th>gender</th>\n",
       "      <th>age</th>\n",
       "      <th>income</th>\n",
       "      <th>family_members</th>\n",
       "      <th>insurance_benefits</th>\n",
       "      <th>distance</th>\n",
       "    </tr>\n",
       "  </thead>\n",
       "  <tbody>\n",
       "    <tr>\n",
       "      <th>4</th>\n",
       "      <td>1</td>\n",
       "      <td>28</td>\n",
       "      <td>26100.0</td>\n",
       "      <td>0</td>\n",
       "      <td>0</td>\n",
       "      <td>0.0</td>\n",
       "    </tr>\n",
       "    <tr>\n",
       "      <th>2701</th>\n",
       "      <td>1</td>\n",
       "      <td>31</td>\n",
       "      <td>26100.0</td>\n",
       "      <td>3</td>\n",
       "      <td>0</td>\n",
       "      <td>6.0</td>\n",
       "    </tr>\n",
       "    <tr>\n",
       "      <th>2773</th>\n",
       "      <td>1</td>\n",
       "      <td>24</td>\n",
       "      <td>26100.0</td>\n",
       "      <td>2</td>\n",
       "      <td>0</td>\n",
       "      <td>6.0</td>\n",
       "    </tr>\n",
       "    <tr>\n",
       "      <th>3346</th>\n",
       "      <td>0</td>\n",
       "      <td>34</td>\n",
       "      <td>26100.0</td>\n",
       "      <td>0</td>\n",
       "      <td>0</td>\n",
       "      <td>7.0</td>\n",
       "    </tr>\n",
       "    <tr>\n",
       "      <th>4721</th>\n",
       "      <td>1</td>\n",
       "      <td>22</td>\n",
       "      <td>26100.0</td>\n",
       "      <td>2</td>\n",
       "      <td>0</td>\n",
       "      <td>8.0</td>\n",
       "    </tr>\n",
       "    <tr>\n",
       "      <th>1507</th>\n",
       "      <td>1</td>\n",
       "      <td>35</td>\n",
       "      <td>26100.0</td>\n",
       "      <td>2</td>\n",
       "      <td>0</td>\n",
       "      <td>9.0</td>\n",
       "    </tr>\n",
       "    <tr>\n",
       "      <th>3462</th>\n",
       "      <td>0</td>\n",
       "      <td>35</td>\n",
       "      <td>26100.0</td>\n",
       "      <td>2</td>\n",
       "      <td>0</td>\n",
       "      <td>10.0</td>\n",
       "    </tr>\n",
       "  </tbody>\n",
       "</table>\n",
       "</div>"
      ],
      "text/plain": [
       "      gender  age   income  family_members  insurance_benefits  distance\n",
       "4          1   28  26100.0               0                   0       0.0\n",
       "2701       1   31  26100.0               3                   0       6.0\n",
       "2773       1   24  26100.0               2                   0       6.0\n",
       "3346       0   34  26100.0               0                   0       7.0\n",
       "4721       1   22  26100.0               2                   0       8.0\n",
       "1507       1   35  26100.0               2                   0       9.0\n",
       "3462       0   35  26100.0               2                   0      10.0"
      ]
     },
     "execution_count": 86,
     "metadata": {},
     "output_type": "execute_result"
    }
   ],
   "source": [
    "man_not_scaled = get_knn(df, 4, 7, 'manhattan')\n",
    "man_not_scaled"
   ]
  },
  {
   "cell_type": "code",
   "execution_count": 87,
   "metadata": {},
   "outputs": [
    {
     "data": {
      "text/html": [
       "<div>\n",
       "<style scoped>\n",
       "    .dataframe tbody tr th:only-of-type {\n",
       "        vertical-align: middle;\n",
       "    }\n",
       "\n",
       "    .dataframe tbody tr th {\n",
       "        vertical-align: top;\n",
       "    }\n",
       "\n",
       "    .dataframe thead th {\n",
       "        text-align: right;\n",
       "    }\n",
       "</style>\n",
       "<table border=\"1\" class=\"dataframe\">\n",
       "  <thead>\n",
       "    <tr style=\"text-align: right;\">\n",
       "      <th></th>\n",
       "      <th>gender</th>\n",
       "      <th>age</th>\n",
       "      <th>income</th>\n",
       "      <th>family_members</th>\n",
       "      <th>insurance_benefits</th>\n",
       "      <th>distance</th>\n",
       "    </tr>\n",
       "  </thead>\n",
       "  <tbody>\n",
       "    <tr>\n",
       "      <th>4</th>\n",
       "      <td>1</td>\n",
       "      <td>28</td>\n",
       "      <td>26100.0</td>\n",
       "      <td>0</td>\n",
       "      <td>0</td>\n",
       "      <td>0.000000</td>\n",
       "    </tr>\n",
       "    <tr>\n",
       "      <th>2701</th>\n",
       "      <td>1</td>\n",
       "      <td>31</td>\n",
       "      <td>26100.0</td>\n",
       "      <td>3</td>\n",
       "      <td>0</td>\n",
       "      <td>4.242641</td>\n",
       "    </tr>\n",
       "    <tr>\n",
       "      <th>2773</th>\n",
       "      <td>1</td>\n",
       "      <td>24</td>\n",
       "      <td>26100.0</td>\n",
       "      <td>2</td>\n",
       "      <td>0</td>\n",
       "      <td>4.472136</td>\n",
       "    </tr>\n",
       "    <tr>\n",
       "      <th>3346</th>\n",
       "      <td>0</td>\n",
       "      <td>34</td>\n",
       "      <td>26100.0</td>\n",
       "      <td>0</td>\n",
       "      <td>0</td>\n",
       "      <td>6.082763</td>\n",
       "    </tr>\n",
       "    <tr>\n",
       "      <th>4721</th>\n",
       "      <td>1</td>\n",
       "      <td>22</td>\n",
       "      <td>26100.0</td>\n",
       "      <td>2</td>\n",
       "      <td>0</td>\n",
       "      <td>6.324555</td>\n",
       "    </tr>\n",
       "    <tr>\n",
       "      <th>1507</th>\n",
       "      <td>1</td>\n",
       "      <td>35</td>\n",
       "      <td>26100.0</td>\n",
       "      <td>2</td>\n",
       "      <td>0</td>\n",
       "      <td>7.280110</td>\n",
       "    </tr>\n",
       "    <tr>\n",
       "      <th>3462</th>\n",
       "      <td>0</td>\n",
       "      <td>35</td>\n",
       "      <td>26100.0</td>\n",
       "      <td>2</td>\n",
       "      <td>0</td>\n",
       "      <td>7.348469</td>\n",
       "    </tr>\n",
       "  </tbody>\n",
       "</table>\n",
       "</div>"
      ],
      "text/plain": [
       "      gender  age   income  family_members  insurance_benefits  distance\n",
       "4          1   28  26100.0               0                   0  0.000000\n",
       "2701       1   31  26100.0               3                   0  4.242641\n",
       "2773       1   24  26100.0               2                   0  4.472136\n",
       "3346       0   34  26100.0               0                   0  6.082763\n",
       "4721       1   22  26100.0               2                   0  6.324555\n",
       "1507       1   35  26100.0               2                   0  7.280110\n",
       "3462       0   35  26100.0               2                   0  7.348469"
      ]
     },
     "execution_count": 87,
     "metadata": {},
     "output_type": "execute_result"
    }
   ],
   "source": [
    "euc_not_scaled = get_knn(df, 4, 7, 'euclidean')\n",
    "euc_not_scaled"
   ]
  },
  {
   "cell_type": "markdown",
   "metadata": {},
   "source": [
    "When the manhatten or eculidean distances are used in the calculation of distance, the results differ."
   ]
  },
  {
   "cell_type": "markdown",
   "metadata": {},
   "source": [
    "Answers to the questions"
   ]
  },
  {
   "cell_type": "markdown",
   "metadata": {},
   "source": [
    "**Does the data being not scaled affect the kNN algorithm? If so, how does that appear?** \n",
    "\n",
    "Put your answer here."
   ]
  },
  {
   "cell_type": "code",
   "execution_count": 88,
   "metadata": {},
   "outputs": [
    {
     "data": {
      "text/plain": [
       "array([[<AxesSubplot:title={'center':'gender'}>,\n",
       "        <AxesSubplot:title={'center':'age'}>],\n",
       "       [<AxesSubplot:title={'center':'income'}>,\n",
       "        <AxesSubplot:title={'center':'family_members'}>]], dtype=object)"
      ]
     },
     "execution_count": 88,
     "metadata": {},
     "output_type": "execute_result"
    },
    {
     "data": {
      "image/png": "[encoded data removed]",
      "text/plain": [
       "<Figure size 640x480 with 4 Axes>"
      ]
     },
     "metadata": {},
     "output_type": "display_data"
    }
   ],
   "source": [
    "# distribution of features using the unscaled data \n",
    "man_not_scaled[feature_names].hist()"
   ]
  },
  {
   "cell_type": "code",
   "execution_count": 89,
   "metadata": {},
   "outputs": [
    {
     "data": {
      "text/plain": [
       "array([[<AxesSubplot:title={'center':'gender'}>,\n",
       "        <AxesSubplot:title={'center':'age'}>],\n",
       "       [<AxesSubplot:title={'center':'income'}>,\n",
       "        <AxesSubplot:title={'center':'family_members'}>]], dtype=object)"
      ]
     },
     "execution_count": 89,
     "metadata": {},
     "output_type": "execute_result"
    },
    {
     "data": {
      "image/png": "[encoded data removed]",
      "text/plain": [
       "<Figure size 640x480 with 4 Axes>"
      ]
     },
     "metadata": {},
     "output_type": "display_data"
    }
   ],
   "source": [
    "man_scaled[feature_names].hist()\n",
    "# Distribution of features using scaled data"
   ]
  },
  {
   "cell_type": "markdown",
   "metadata": {},
   "source": [
    "The above graphs display the results for both unscaled and scaled data. The k-Nearest Neighbors (kNN) algorithm is sensitive to unscaled data because it prioritizes features with larger numerical ranges. Additionally, selecting the number of neighbors (K) for predictions significantly influences the outcomes. Consequently, during prediction, features with larger values dominate the distance calculations, thereby impacting the results."
   ]
  },
  {
   "cell_type": "markdown",
   "metadata": {},
   "source": [
    "**How similar are the results using the Manhattan distance metric (regardless of the scaling)?** \n",
    "\n",
    "Put your answer here."
   ]
  },
  {
   "cell_type": "code",
   "execution_count": 90,
   "metadata": {},
   "outputs": [
    {
     "data": {
      "text/plain": [
       "Text(0, 0.5, 'Fequency')"
      ]
     },
     "execution_count": 90,
     "metadata": {},
     "output_type": "execute_result"
    },
    {
     "data": {
      "image/png": "[encoded data removed]",
      "text/plain": [
       "<Figure size 640x480 with 1 Axes>"
      ]
     },
     "metadata": {},
     "output_type": "display_data"
    }
   ],
   "source": [
    "man_scaled.distance.hist()\n",
    "plt.title('Manhattan scaled data distribution')\n",
    "plt.xlabel('Manhattan Distance')\n",
    "plt.ylabel('Fequency')"
   ]
  },
  {
   "cell_type": "code",
   "execution_count": 91,
   "metadata": {},
   "outputs": [
    {
     "data": {
      "text/plain": [
       "Text(0, 0.5, 'Fequency')"
      ]
     },
     "execution_count": 91,
     "metadata": {},
     "output_type": "execute_result"
    },
    {
     "data": {
      "image/png": "[encoded data removed]",
      "text/plain": [
       "<Figure size 640x480 with 1 Axes>"
      ]
     },
     "metadata": {},
     "output_type": "display_data"
    }
   ],
   "source": [
    "man_not_scaled.distance.hist()\n",
    "plt.title('Manhattan scaled data distribution')\n",
    "plt.xlabel('Manhattan Distance')\n",
    "plt.ylabel('Fequency')"
   ]
  },
  {
   "cell_type": "markdown",
   "metadata": {},
   "source": [
    "The results using the Manhattan distance metric are not directly comparable between scaled and unscaled data due to the significant impact of scaling on distance computation. Scaling standardizes feature ranges, resulting in more consistent and smaller distance values, while unscaled data leads to a broader distribution influenced by the magnitude of the feature values."
   ]
  },
  {
   "cell_type": "markdown",
   "metadata": {},
   "source": [
    "<div class=\"alert alert-block alert-success\">\n",
    "<b>Reviewer's comment</b> <a class=\"tocSkip\"></a>\n",
    "\n",
    "Good job!\n",
    "</div>"
   ]
  },
  {
   "cell_type": "markdown",
   "metadata": {},
   "source": [
    "# Task 2. Is Customer Likely to Receive Insurance Benefit?"
   ]
  },
  {
   "cell_type": "markdown",
   "metadata": {},
   "source": [
    "In terms of machine learning we can look at this like a binary classification task."
   ]
  },
  {
   "cell_type": "markdown",
   "metadata": {},
   "source": [
    "With `insurance_benefits` being more than zero as the target, evaluate whether the kNN classification approach can do better than a dummy model.\n",
    "\n",
    "Instructions:\n",
    "- Build a KNN-based classifier and measure its quality with the F1 metric for k=1..10 for both the original data and the scaled one. That'd be interesting to see how k may influece the evaluation metric, and whether scaling the data makes any difference. You can use a ready implemention of the kNN classification algorithm from scikit-learn (check [the link](https://scikit-learn.org/stable/modules/generated/sklearn.neighbors.KNeighborsClassifier.html)) or use your own.\n",
    "- Build the dummy model which is just random for this case. It should return \"1\" with some probability. Let's test the model with four probability values: 0, the probability of paying any insurance benefit, 0.5, 1.\n",
    "\n",
    "The probability of paying any insurance benefit can be defined as\n",
    "\n",
    "$$\n",
    "P\\{\\text{insurance benefit received}\\}=\\frac{\\text{number of clients received any insurance benefit}}{\\text{total number of clients}}.\n",
    "$$\n",
    "\n",
    "Split the whole data in the 70:30 proportion for the training/testing parts."
   ]
  },
  {
   "cell_type": "code",
   "execution_count": 92,
   "metadata": {},
   "outputs": [],
   "source": [
    "# calculate the target\n",
    "\n",
    "df['insurance_benefits_received'] = (df['insurance_benefits'] >0).astype(int) "
   ]
  },
  {
   "cell_type": "code",
   "execution_count": 93,
   "metadata": {},
   "outputs": [
    {
     "data": {
      "text/plain": [
       "0    0.8872\n",
       "1    0.1128\n",
       "Name: insurance_benefits_received, dtype: float64"
      ]
     },
     "execution_count": 93,
     "metadata": {},
     "output_type": "execute_result"
    }
   ],
   "source": [
    "# check for the class imbalance with value_counts()\n",
    "\n",
    "df['insurance_benefits_received'].value_counts(normalize=True)"
   ]
  },
  {
   "cell_type": "code",
   "execution_count": 94,
   "metadata": {},
   "outputs": [],
   "source": [
    "def eval_classifier(y_true, y_pred):\n",
    "    \n",
    "    f1_score = sklearn.metrics.f1_score(y_true, y_pred)\n",
    "    print(f'F1: {f1_score:.2f}')\n",
    "    \n",
    "# if you have an issue with the following line, restart the kernel and run the notebook again\n",
    "    cm = sklearn.metrics.confusion_matrix(y_true, y_pred, normalize='all')\n",
    "    print('Confusion Matrix')\n",
    "    print(cm)"
   ]
  },
  {
   "cell_type": "code",
   "execution_count": 95,
   "metadata": {},
   "outputs": [],
   "source": [
    "# generating output of a random model\n",
    "\n",
    "def rnd_model_predict(P, size, seed=42):\n",
    "\n",
    "    rng = np.random.default_rng(seed=seed)\n",
    "    return rng.binomial(n=1, p=P, size=size)"
   ]
  },
  {
   "cell_type": "code",
   "execution_count": 96,
   "metadata": {},
   "outputs": [],
   "source": [
    "#train random model\n",
    "\n",
    "train, test = train_test_split(df, test_size=.3,\n",
    "                              stratify=df['insurance_benefits_received'], random_state=123)\n",
    "x_train = train[feature_names]\n",
    "x_test = test[feature_names]\n",
    "y_train = train['insurance_benefits_received']\n",
    "y_test = test['insurance_benefits_received']"
   ]
  },
  {
   "cell_type": "code",
   "execution_count": 97,
   "metadata": {},
   "outputs": [
    {
     "name": "stdout",
     "output_type": "stream",
     "text": [
      "F1: 0.41\n",
      "Confusion Matrix\n",
      "[[0.88       0.00733333]\n",
      " [0.082      0.03066667]]\n"
     ]
    }
   ],
   "source": [
    "knn = KNeighborsClassifier(n_neighbors=3)\n",
    "knn.fit(x_train,y_train)\n",
    "predict_y = knn.predict(x_test)\n",
    "eval_classifier(y_test,predict_y )"
   ]
  },
  {
   "cell_type": "code",
   "execution_count": 98,
   "metadata": {},
   "outputs": [
    {
     "name": "stdout",
     "output_type": "stream",
     "text": [
      "F1 score and confusion matrix for k:\n",
      "F1: 0.69\n",
      "Confusion Matrix\n",
      "[[0.876      0.01133333]\n",
      " [0.04666667 0.066     ]]\n",
      "\n",
      "F1 score and confusion matrix for k:\n",
      "F1: 0.38\n",
      "Confusion Matrix\n",
      "[[0.88533333 0.002     ]\n",
      " [0.08533333 0.02733333]]\n",
      "\n",
      "F1 score and confusion matrix for k:\n",
      "F1: 0.41\n",
      "Confusion Matrix\n",
      "[[0.88       0.00733333]\n",
      " [0.082      0.03066667]]\n",
      "\n",
      "F1 score and confusion matrix for k:\n",
      "F1: 0.21\n",
      "Confusion Matrix\n",
      "[[8.86666667e-01 6.66666667e-04]\n",
      " [9.93333333e-02 1.33333333e-02]]\n",
      "\n",
      "F1 score and confusion matrix for k:\n",
      "F1: 0.21\n",
      "Confusion Matrix\n",
      "[[0.88333333 0.004     ]\n",
      " [0.09866667 0.014     ]]\n",
      "\n",
      "F1 score and confusion matrix for k:\n",
      "F1: 0.15\n",
      "Confusion Matrix\n",
      "[[0.88733333 0.        ]\n",
      " [0.10333333 0.00933333]]\n",
      "\n",
      "F1 score and confusion matrix for k:\n",
      "F1: 0.16\n",
      "Confusion Matrix\n",
      "[[0.886      0.00133333]\n",
      " [0.10266667 0.01      ]]\n",
      "\n",
      "F1 score and confusion matrix for k:\n",
      "F1: 0.00\n",
      "Confusion Matrix\n",
      "[[0.88733333 0.        ]\n",
      " [0.11266667 0.        ]]\n",
      "\n",
      "F1 score and confusion matrix for k:\n",
      "F1: 0.01\n",
      "Confusion Matrix\n",
      "[[8.87333333e-01 0.00000000e+00]\n",
      " [1.12000000e-01 6.66666667e-04]]\n",
      "\n",
      "F1 score and confusion matrix for k:\n",
      "F1: 0.00\n",
      "Confusion Matrix\n",
      "[[0.88733333 0.        ]\n",
      " [0.11266667 0.        ]]\n",
      "\n"
     ]
    }
   ],
   "source": [
    "k = np.arange(1,11)\n",
    "for k in k:\n",
    "    print('F1 score and confusion matrix for k:')\n",
    "    knn = KNeighborsClassifier(n_neighbors=k)\n",
    "    knn.fit(x_train,y_train)\n",
    "    predict_y = knn.predict(x_test)\n",
    "    eval_classifier(y_test,predict_y )\n",
    "    print()"
   ]
  },
  {
   "cell_type": "code",
   "execution_count": 99,
   "metadata": {},
   "outputs": [
    {
     "name": "stdout",
     "output_type": "stream",
     "text": [
      "The probability: 0.00\n",
      "F1: 0.00\n",
      "Confusion Matrix\n",
      "[[0.8872 0.    ]\n",
      " [0.1128 0.    ]]\n",
      "\n",
      "The probability: 0.11\n",
      "F1: 0.12\n",
      "Confusion Matrix\n",
      "[[0.7914 0.0958]\n",
      " [0.0994 0.0134]]\n",
      "\n",
      "The probability: 0.50\n",
      "F1: 0.20\n",
      "Confusion Matrix\n",
      "[[0.456  0.4312]\n",
      " [0.053  0.0598]]\n",
      "\n",
      "The probability: 1.00\n",
      "F1: 0.20\n",
      "Confusion Matrix\n",
      "[[0.     0.8872]\n",
      " [0.     0.1128]]\n",
      "\n"
     ]
    }
   ],
   "source": [
    "for P in [0, df['insurance_benefits_received'].sum() / len(df), 0.5, 1]:\n",
    "\n",
    "    print(f'The probability: {P:.2f}')\n",
    "    y_pred_rnd = rnd_model_predict(P, df[feature_names].shape[0])# <your code here> \n",
    "        \n",
    "    eval_classifier(df['insurance_benefits_received'], y_pred_rnd)\n",
    "    \n",
    "    print()"
   ]
  },
  {
   "cell_type": "markdown",
   "metadata": {},
   "source": [
    "k-Nearest Neighbors (k-NN) Classifier Evaluation\n",
    "In the first section, a k-Nearest Neighbors (k-NN) classifier is evaluated with various values of k, ranging from 1 to 10. The process begins by initializing an array k with values from 1 to 10 and iterating through each value. For each k, a k-NN classifier is instantiated and trained using the training data (x_train, y_train). The trained model then predicts the labels (predict_y) for the test data (x_test). The eval_classifier function is subsequently used to compute and print the F1 score and confusion matrix for each value of k. The results demonstrate significant variability in the F1 score, indicating that the model's performance fluctuates with different k values. For instance, the highest F1 score observed is 0.69 for k=1, but it drops to 0.00 for k=8 and k=10, showing that the choice of k critically impacts the classifier's effectiveness.\n",
    "\n",
    "Random Model Evaluation\n",
    "The second section evaluates a random model using different predefined probabilities (P). The loop iterates over a list of probabilities: 0, the mean of insurance_benefits_received, 0.5, and 1. For each probability P, the rnd_model_predict function generates random predictions based on the given probability. The eval_classifier function then computes and prints the F1 score and confusion matrix for each probability. The results reveal how the random model's performance changes with varying probability settings. At P=0, the F1 score is 0.00, indicating poor performance. However, at P=0.11, the F1 score increases to 0.12, and further changes are observed as the probability values shift to 0.5 and 1.0. This section highlights the impact of different probability thresholds on the performance of random predictions.\n",
    "\n",
    "In summary, the k-NN classifier's performance is highly dependent on the choice of k, with optimal performance at specific values and substantial decline at others. In contrast, the random model's performance varies with different probability settings, illustrating the influence of probability thresholds on prediction outcomes."
   ]
  },
  {
   "cell_type": "markdown",
   "metadata": {},
   "source": [
    "### Scaled Data"
   ]
  },
  {
   "cell_type": "code",
   "execution_count": 100,
   "metadata": {},
   "outputs": [],
   "source": [
    "df_scaled['insurance_benefits_received'] = df_scaled.insurance_benefits >0"
   ]
  },
  {
   "cell_type": "code",
   "execution_count": 101,
   "metadata": {},
   "outputs": [],
   "source": [
    "target = df_scaled['insurance_benefits_received']\n",
    "feature= df_scaled[feature_names]\n",
    "\n",
    "x_train,x_test,y_train,y_test = train_test_split(feature, target, \n",
    "                                                test_size=.3, random_state=123)"
   ]
  },
  {
   "cell_type": "code",
   "execution_count": 102,
   "metadata": {},
   "outputs": [
    {
     "name": "stdout",
     "output_type": "stream",
     "text": [
      "Scaled data F1 score and confusion matrix: \n",
      "F1: 0.95\n",
      "Confusion Matrix\n",
      "[[0.88266667 0.004     ]\n",
      " [0.00733333 0.106     ]]\n",
      "\n",
      "Scaled data F1 score and confusion matrix: \n",
      "F1: 0.92\n",
      "Confusion Matrix\n",
      "[[8.86000000e-01 6.66666667e-04]\n",
      " [1.53333333e-02 9.80000000e-02]]\n",
      "\n",
      "Scaled data F1 score and confusion matrix: \n",
      "F1: 0.93\n",
      "Confusion Matrix\n",
      "[[0.88533333 0.00133333]\n",
      " [0.01266667 0.10066667]]\n",
      "\n",
      "Scaled data F1 score and confusion matrix: \n",
      "F1: 0.90\n",
      "Confusion Matrix\n",
      "[[0.88666667 0.        ]\n",
      " [0.02066667 0.09266667]]\n",
      "\n",
      "Scaled data F1 score and confusion matrix: \n",
      "F1: 0.92\n",
      "Confusion Matrix\n",
      "[[0.88333333 0.00333333]\n",
      " [0.01333333 0.1       ]]\n",
      "\n",
      "Scaled data F1 score and confusion matrix: \n",
      "F1: 0.93\n",
      "Confusion Matrix\n",
      "[[0.88666667 0.        ]\n",
      " [0.01533333 0.098     ]]\n",
      "\n",
      "Scaled data F1 score and confusion matrix: \n",
      "F1: 0.94\n",
      "Confusion Matrix\n",
      "[[0.88533333 0.00133333]\n",
      " [0.01133333 0.102     ]]\n",
      "\n",
      "Scaled data F1 score and confusion matrix: \n",
      "F1: 0.93\n",
      "Confusion Matrix\n",
      "[[0.88666667 0.        ]\n",
      " [0.01466667 0.09866667]]\n",
      "\n",
      "Scaled data F1 score and confusion matrix: \n",
      "F1: 0.93\n",
      "Confusion Matrix\n",
      "[[0.88533333 0.00133333]\n",
      " [0.01266667 0.10066667]]\n",
      "\n",
      "Scaled data F1 score and confusion matrix: \n",
      "F1: 0.91\n",
      "Confusion Matrix\n",
      "[[8.86000000e-01 6.66666667e-04]\n",
      " [1.73333333e-02 9.60000000e-02]]\n",
      "\n"
     ]
    }
   ],
   "source": [
    "k = np.arange(1,11)\n",
    "for k in k:\n",
    "    print('Scaled data F1 score and confusion matrix: ')\n",
    "    knn = KNeighborsClassifier(n_neighbors=k)\n",
    "    knn.fit(x_train,y_train)\n",
    "    eval_classifier(y_test, knn.predict(x_test))\n",
    "    print()"
   ]
  },
  {
   "cell_type": "markdown",
   "metadata": {},
   "source": [
    "The k-NN classifier's performance on scaled data remains consistently high across different values of k, with F1 scores ranging from 0.90 to 0.95. The confusion matrices show that the classifier has a high true positive rate and a low false positive rate, further indicating the effectiveness of the model on the given dataset. This demonstrates that scaling the data has likely contributed to the stability and reliability of the classifier's performance."
   ]
  },
  {
   "cell_type": "markdown",
   "metadata": {},
   "source": [
    "### Conclusion "
   ]
  },
  {
   "cell_type": "markdown",
   "metadata": {},
   "source": [
    "In summary, the k-NN classifier's performance is highly dependent on the choice of k, with optimal results at specific values and considerable decline at others. Conversely, the random model's performance varies with different probability settings, demonstrating the influence of probability thresholds on prediction outcomes. The k-NN classifier, when used with scaled data, shows consistently high performance, indicating that data scaling plays a crucial role in enhancing the classifier's effectiveness and reliability."
   ]
  },
  {
   "cell_type": "markdown",
   "metadata": {},
   "source": [
    "<div class=\"alert alert-block alert-success\">\n",
    "<b>Reviewer's comment</b> <a class=\"tocSkip\"></a>\n",
    "\n",
    "Well done!\n",
    "</div>"
   ]
  },
  {
   "cell_type": "markdown",
   "metadata": {},
   "source": [
    "# Task 3. Regression (with Linear Regression)"
   ]
  },
  {
   "cell_type": "markdown",
   "metadata": {},
   "source": [
    "With `insurance_benefits` as the target, evaluate what RMSE would be for a Linear Regression model."
   ]
  },
  {
   "cell_type": "markdown",
   "metadata": {},
   "source": [
    "Build your own implementation of LR. For that, recall how the linear regression task's solution is formulated in terms of LA. Check RMSE for both the original data and the scaled one. Can you see any difference in RMSE between these two cases?\n",
    "\n",
    "Let's denote\n",
    "- $X$ — feature matrix, each row is a case, each column is a feature, the first column consists of unities\n",
    "- $y$ — target (a vector)\n",
    "- $\\hat{y}$ — estimated tagret (a vector)\n",
    "- $w$ — weight vector\n",
    "\n",
    "The task of linear regression in the language of matrices can be formulated as\n",
    "\n",
    "$$\n",
    "y = Xw\n",
    "$$\n",
    "\n",
    "The training objective then is to find such $w$ that it would minimize the L2-distance (MSE) between $Xw$ and $y$:\n",
    "\n",
    "$$\n",
    "\\min_w d_2(Xw, y) \\quad \\text{or} \\quad \\min_w \\text{MSE}(Xw, y)\n",
    "$$\n",
    "\n",
    "It appears that there is analytical solution for the above:\n",
    "\n",
    "$$\n",
    "w = (X^T X)^{-1} X^T y\n",
    "$$\n",
    "\n",
    "The formula above can be used to find the weights $w$ and the latter can be used to calculate predicted values\n",
    "\n",
    "$$\n",
    "\\hat{y} = X_{val}w\n",
    "$$"
   ]
  },
  {
   "cell_type": "markdown",
   "metadata": {},
   "source": [
    "Split the whole data in the 70:30 proportion for the training/validation parts. Use the RMSE metric for the model evaluation."
   ]
  },
  {
   "cell_type": "markdown",
   "metadata": {},
   "source": [
    "### Original data"
   ]
  },
  {
   "cell_type": "code",
   "execution_count": 103,
   "metadata": {},
   "outputs": [],
   "source": [
    "class MyLinearRegression:\n",
    "    \n",
    "    def __init__(self):\n",
    "        \n",
    "        self.weights = None\n",
    "    \n",
    "    def fit(self, X, y):\n",
    "        \n",
    "        # adding the unities\n",
    "        X2 = np.append(np.ones([len(X), 1]), X, axis=1)\n",
    "        self.weights = (np.linalg.inv(X2.T.dot(X2))).dot(X2.T).dot(y) # <your code here>\n",
    "\n",
    "    def predict(self, X):\n",
    "        \n",
    "        # adding the unities\n",
    "        X2 = np.append(np.ones([len(X), 1]), X, axis=1)\n",
    "        y_pred = X2 @ self.weights\n",
    "        \n",
    "        return y_pred"
   ]
  },
  {
   "cell_type": "code",
   "execution_count": 104,
   "metadata": {},
   "outputs": [],
   "source": [
    "def eval_regressor(y_true, y_pred):\n",
    "    \n",
    "    rmse = math.sqrt(sklearn.metrics.mean_squared_error(y_true, y_pred))\n",
    "    print(f'RMSE: {rmse:.2f}')\n",
    "    \n",
    "    r2_score = math.sqrt(sklearn.metrics.r2_score(y_true, y_pred))\n",
    "    print(f'R2: {r2_score:.2f}')    "
   ]
  },
  {
   "cell_type": "code",
   "execution_count": 105,
   "metadata": {},
   "outputs": [
    {
     "name": "stdout",
     "output_type": "stream",
     "text": [
      "[-9.43539012e-01  3.57495491e-02  1.64272726e-02 -2.60743659e-07\n",
      " -1.16902127e-02]\n",
      "RMSE: 0.34\n",
      "R2: 0.66\n"
     ]
    }
   ],
   "source": [
    "X = df[['age', 'gender', 'income', 'family_members']].to_numpy()\n",
    "y = df['insurance_benefits'].to_numpy()\n",
    "\n",
    "X_train, X_test, y_train, y_test = train_test_split(X, y, test_size=0.3, random_state=12345)\n",
    "\n",
    "lr = MyLinearRegression()\n",
    "\n",
    "lr.fit(X_train, y_train)\n",
    "print(lr.weights)\n",
    "\n",
    "y_test_pred = lr.predict(X_test)\n",
    "eval_regressor(y_test, y_test_pred)"
   ]
  },
  {
   "cell_type": "markdown",
   "metadata": {},
   "source": [
    "The model gave an RMSE score of 0.34 and 0.66 for R²\n",
    "."
   ]
  },
  {
   "cell_type": "markdown",
   "metadata": {},
   "source": [
    "### Scaled Data"
   ]
  },
  {
   "cell_type": "code",
   "execution_count": 106,
   "metadata": {},
   "outputs": [],
   "source": [
    "class MyLinearRegression:\n",
    "    \n",
    "    def __init__(self):\n",
    "        self.weights = None\n",
    "        self.scaler = StandardScaler()\n",
    "    \n",
    "    def fit(self, X, y):\n",
    "        # Feature scaling (excluding the intercept term)\n",
    "        X_scaled = self.scaler.fit_transform(X)\n",
    "        \n",
    "        # Adding the intercept term\n",
    "        X2 = np.append(np.ones([len(X_scaled), 1]), X_scaled, axis=1)\n",
    "        \n",
    "        # Calculating weights using the normal equation\n",
    "        self.weights = np.linalg.inv(X2.T.dot(X2)).dot(X2.T).dot(y)\n",
    "    \n",
    "    def predict(self, X):\n",
    "        # Feature scaling (excluding the intercept term)\n",
    "        X_scaled = self.scaler.transform(X)\n",
    "        \n",
    "        # Adding the intercept term\n",
    "        X2 = np.append(np.ones([len(X_scaled), 1]), X_scaled, axis=1)\n",
    "        \n",
    "        # Predicting the target values\n",
    "        y_pred = X2.dot(self.weights)\n",
    "        return y_pred\n"
   ]
  },
  {
   "cell_type": "code",
   "execution_count": 107,
   "metadata": {},
   "outputs": [],
   "source": [
    "def eval_regressor(y_true, y_pred):\n",
    "    \n",
    "    rmse = math.sqrt(sklearn.metrics.mean_squared_error(y_true, y_pred))\n",
    "    print(f'RMSE: {rmse:.2f}')\n",
    "    \n",
    "    r2_score = math.sqrt(sklearn.metrics.r2_score(y_true, y_pred))\n",
    "    print(f'R2: {r2_score:.2f}')      "
   ]
  },
  {
   "cell_type": "code",
   "execution_count": 108,
   "metadata": {},
   "outputs": [
    {
     "name": "stdout",
     "output_type": "stream",
     "text": [
      "Weights: [ 0.14971429  0.30292778  0.0082117  -0.00258294 -0.01271039]\n",
      "RMSE: 0.34\n",
      "R2: 0.66\n"
     ]
    }
   ],
   "source": [
    "X = df[['age', 'gender', 'income', 'family_members']].to_numpy()\n",
    "y = df['insurance_benefits'].to_numpy()\n",
    "\n",
    "# Splitting the data\n",
    "X_train, X_test, y_train, y_test = train_test_split(X, y, test_size=0.3, random_state=12345)\n",
    "\n",
    "# Initialize and fit the model\n",
    "lr = MyLinearRegression()\n",
    "lr.fit(X_train, y_train)\n",
    "print(\"Weights:\", lr.weights)\n",
    "\n",
    "# Predicting\n",
    "y_test_pred = lr.predict(X_test)\n",
    "\n",
    "# Evaluating the model\n",
    "eval_regressor(y_test, y_test_pred)"
   ]
  },
  {
   "cell_type": "markdown",
   "metadata": {},
   "source": [
    "The results provided show that the RMSE and R² values are identical for both the scaled and original data cases. Specifically, the RMSE is 0.34 and the R² is 0.66 in both scenarios, indicating that the model's performance in predicting the target variable remains consistent regardless of whether the features are scaled. However, the weights (coefficients) of the regression model differ significantly between the two cases due to the feature scaling."
   ]
  },
  {
   "cell_type": "markdown",
   "metadata": {},
   "source": [
    "<div class=\"alert alert-block alert-danger\">\n",
    "<b>Reviewer's comment</b> <a class=\"tocSkip\"></a>\n",
    "\n",
    "Sentence from task description: \"Check RMSE for both the original data and the scaled one.\". So, you forgot to test the model on scaled data.\n",
    "</div>"
   ]
  },
  {
   "cell_type": "markdown",
   "metadata": {},
   "source": [
    "<div class=\"alert alert-block alert-success\">\n",
    "<b>Reviewer's comment V2</b> <a class=\"tocSkip\"></a>\n",
    "\n",
    "Good job\n",
    "</div>"
   ]
  },
  {
   "cell_type": "markdown",
   "metadata": {},
   "source": [
    "# Task 4. Obfuscating Data"
   ]
  },
  {
   "cell_type": "markdown",
   "metadata": {},
   "source": [
    "It best to obfuscate data by multiplying the numerical features (remember, they can be seen as the matrix $X$) by an invertible matrix $P$. \n",
    "\n",
    "$$\n",
    "X' = X \\times P\n",
    "$$\n",
    "\n",
    "Try to do that and check how the features' values will look like after the transformation. By the way, the intertible property is important here so make sure that $P$ is indeed invertible.\n",
    "\n",
    "You may want to review the 'Matrices and Matrix Operations -> Matrix Multiplication' lesson to recall the rule of matrix multiplication and its implementation with NumPy."
   ]
  },
  {
   "cell_type": "code",
   "execution_count": 109,
   "metadata": {},
   "outputs": [],
   "source": [
    "personal_info_column_list = ['gender', 'age', 'income', 'family_members']\n",
    "df_pn = df[personal_info_column_list]"
   ]
  },
  {
   "cell_type": "code",
   "execution_count": 110,
   "metadata": {},
   "outputs": [
    {
     "data": {
      "text/plain": [
       "array([[1.00e+00, 4.10e+01, 4.96e+04, 1.00e+00],\n",
       "       [0.00e+00, 4.60e+01, 3.80e+04, 1.00e+00],\n",
       "       [0.00e+00, 2.90e+01, 2.10e+04, 0.00e+00],\n",
       "       ...,\n",
       "       [0.00e+00, 2.00e+01, 3.39e+04, 2.00e+00],\n",
       "       [1.00e+00, 2.20e+01, 3.27e+04, 3.00e+00],\n",
       "       [1.00e+00, 2.80e+01, 4.06e+04, 1.00e+00]])"
      ]
     },
     "execution_count": 110,
     "metadata": {},
     "output_type": "execute_result"
    }
   ],
   "source": [
    "X = df_pn.to_numpy()\n",
    "X"
   ]
  },
  {
   "cell_type": "markdown",
   "metadata": {},
   "source": [
    "Generating a random matrix $P$."
   ]
  },
  {
   "cell_type": "code",
   "execution_count": 111,
   "metadata": {},
   "outputs": [
    {
     "data": {
      "text/plain": [
       "array([[0.77395605, 0.43887844, 0.85859792, 0.69736803],\n",
       "       [0.09417735, 0.97562235, 0.7611397 , 0.78606431],\n",
       "       [0.12811363, 0.45038594, 0.37079802, 0.92676499],\n",
       "       [0.64386512, 0.82276161, 0.4434142 , 0.22723872]])"
      ]
     },
     "execution_count": 111,
     "metadata": {},
     "output_type": "execute_result"
    }
   ],
   "source": [
    "rng = np.random.default_rng(seed=42)\n",
    "P = rng.random(size=(X.shape[1], X.shape[1]))\n",
    "P"
   ]
  },
  {
   "cell_type": "markdown",
   "metadata": {},
   "source": [
    "Checking the matrix $P$ is invertible"
   ]
  },
  {
   "cell_type": "code",
   "execution_count": 112,
   "metadata": {},
   "outputs": [
    {
     "data": {
      "text/plain": [
       "array([[ 1.00000000e+00, -1.69848573e-16, -7.58122972e-17,\n",
       "        -1.13112497e-16],\n",
       "       [-6.94895396e-17,  1.00000000e+00, -7.10568689e-17,\n",
       "         3.59096970e-17],\n",
       "       [-1.21269339e-16, -8.01461326e-17,  1.00000000e+00,\n",
       "         4.30764008e-19],\n",
       "       [-3.60694539e-16, -5.55430227e-16,  3.08072404e-16,\n",
       "         1.00000000e+00]])"
      ]
     },
     "execution_count": 112,
     "metadata": {},
     "output_type": "execute_result"
    }
   ],
   "source": [
    "y = np.linalg.inv(P)\n",
    "P.dot(y)"
   ]
  },
  {
   "cell_type": "markdown",
   "metadata": {},
   "source": [
    "Can you guess the customers' ages or income after the transformation?"
   ]
  },
  {
   "cell_type": "code",
   "execution_count": 113,
   "metadata": {},
   "outputs": [
    {
     "data": {
      "text/plain": [
       "array([[ 6359.71527314, 22380.40467609, 18424.09074184, 46000.69669016],\n",
       "       [ 4873.29406479, 17160.36702982, 14125.78076133, 35253.45577301],\n",
       "       [ 2693.11742928,  9486.397744  ,  7808.83156024, 19484.86063067],\n",
       "       ...,\n",
       "       [ 4346.2234249 , 15289.24126492, 12586.16264392, 31433.50888552],\n",
       "       [ 4194.09324155, 14751.9910242 , 12144.02930637, 30323.88763426],\n",
       "       [ 5205.46827354, 18314.24814446, 15077.01370762, 37649.59295455]])"
      ]
     },
     "execution_count": 113,
     "metadata": {},
     "output_type": "execute_result"
    }
   ],
   "source": [
    "X_prime = np.matmul(X,P)\n",
    "X_prime"
   ]
  },
  {
   "cell_type": "markdown",
   "metadata": {},
   "source": [
    "Can you recover the original data from $X'$ if you know $P$? Try to check that with calculations by moving $P$ from the right side of the formula above to the left one. The rules of matrix multiplcation are really helpful here."
   ]
  },
  {
   "cell_type": "code",
   "execution_count": 114,
   "metadata": {},
   "outputs": [
    {
     "data": {
      "text/plain": [
       "array([[ 1.00000000e+00,  4.10000000e+01,  4.96000000e+04,\n",
       "         1.00000000e+00],\n",
       "       [-4.47363596e-12,  4.60000000e+01,  3.80000000e+04,\n",
       "         1.00000000e+00],\n",
       "       [-2.51586878e-12,  2.90000000e+01,  2.10000000e+04,\n",
       "         9.52452315e-13],\n",
       "       ...,\n",
       "       [-1.92837871e-12,  2.00000000e+01,  3.39000000e+04,\n",
       "         2.00000000e+00],\n",
       "       [ 1.00000000e+00,  2.20000000e+01,  3.27000000e+04,\n",
       "         3.00000000e+00],\n",
       "       [ 1.00000000e+00,  2.80000000e+01,  4.06000000e+04,\n",
       "         1.00000000e+00]])"
      ]
     },
     "execution_count": 114,
     "metadata": {},
     "output_type": "execute_result"
    }
   ],
   "source": [
    "X_rev = X_prime @ np.linalg.inv(P)\n",
    "X_rev"
   ]
  },
  {
   "cell_type": "markdown",
   "metadata": {},
   "source": [
    "Print all three cases for a few customers\n",
    "- The original data\n",
    "- The transformed one\n",
    "- The reversed (recovered) one"
   ]
  },
  {
   "cell_type": "code",
   "execution_count": 115,
   "metadata": {},
   "outputs": [
    {
     "name": "stdout",
     "output_type": "stream",
     "text": [
      "The original_data:\n",
      "[[1.00e+00 4.10e+01 4.96e+04 1.00e+00]\n",
      " [0.00e+00 4.60e+01 3.80e+04 1.00e+00]]\n",
      "\n",
      "The transform data:\n",
      "[[ 6359.71527314 22380.40467609 18424.09074184 46000.69669016]\n",
      " [ 4873.29406479 17160.36702982 14125.78076133 35253.45577301]]\n",
      "\n",
      "The reversed data:\n",
      "[[ 1.00000000e+00  4.10000000e+01  4.96000000e+04  1.00000000e+00]\n",
      " [-4.47363596e-12  4.60000000e+01  3.80000000e+04  1.00000000e+00]]\n"
     ]
    }
   ],
   "source": [
    "print('The original_data:')\n",
    "print(X[:2])\n",
    "print()\n",
    "print('The transform data:')\n",
    "print(X_prime[:2])\n",
    "print()\n",
    "print('The reversed data:')\n",
    "print(X_rev[:2])"
   ]
  },
  {
   "cell_type": "markdown",
   "metadata": {},
   "source": [
    "You can probably see that some values are not exactly the same as they are in the original data. What might be the reason for that?"
   ]
  },
  {
   "cell_type": "markdown",
   "metadata": {},
   "source": [
    "Some of the results are not the same due to the transformation and calculation of values close to zero."
   ]
  },
  {
   "cell_type": "markdown",
   "metadata": {},
   "source": [
    "<div class=\"alert alert-block alert-warning\">\n",
    "<b>Reviewer's comment</b> <a class=\"tocSkip\"></a>\n",
    "\n",
    "Actually it's not necessary that this problem is caused by only values close to zero. Floats are not stored exactly in computer memory, but only with some approximation. Because of this, rounding errors occur when performing various mathematical operations. This leads to the problem you see here.\n",
    "\n",
    "</div>"
   ]
  },
  {
   "cell_type": "markdown",
   "metadata": {},
   "source": [
    "## Proof That Data Obfuscation Can Work with LR"
   ]
  },
  {
   "cell_type": "markdown",
   "metadata": {},
   "source": [
    "The regression task has been solved with linear regression in this project. Your next task is to prove _analytically_ that the given obfuscation method won't affect linear regression in terms of predicted values i.e. their values will remain the same. Can you believe that? Well, you don't have to, you should prove it!"
   ]
  },
  {
   "cell_type": "markdown",
   "metadata": {},
   "source": [
    "So, the data is obfuscated and there is $X \\times P$ instead of just $X$ now. Consequently, there are other weights $w_P$ as\n",
    "$$\n",
    "w = (X^T X)^{-1} X^T y \\quad \\Rightarrow \\quad w_P = [(XP)^T XP]^{-1} (XP)^T y\n",
    "$$\n",
    "\n",
    "How would $w$ and $w_P$ be linked if you simplify the formula for $w_P$ above? \n",
    "\n",
    "What would be predicted values with $w_P$? \n",
    "\n",
    "What does that mean for the quality of linear regression if you measure it with RMSE?\n",
    "\n",
    "Check Appendix B Properties of Matrices in the end of the notebook. There are useful formulas in there!\n",
    "\n",
    "No code is necessary in this section, only analytical explanation!"
   ]
  },
  {
   "cell_type": "markdown",
   "metadata": {},
   "source": [
    "**Answer**"
   ]
  },
  {
   "cell_type": "markdown",
   "metadata": {},
   "source": [
    "Given  $$ w_p = [(XP)^TXP]^{-1}(XP)^Ty $$\n",
    "\n",
    "expand $(XP)^T$  $$ w_p = [P^TX^TXP]^TP^TX^Ty$$\n",
    "\n",
    "rearrange the square brackets $$ w_p = (P^T(X^TX)P)^{-1}P^TX^Ty$$\n",
    "\n",
    "expand $(P^T(X^TX)P)^{-1}$ as $$ w_p = P^{-1}(X^TX)^{-1}(P^T)^-1P^TX^T$$\n",
    "\n",
    "$$ w_p = P^{-1}(X^TX)^{-1} IX^Ty$$\n",
    "\n",
    "apply the identity property $$ w_p = P^{-1}(X^TX)^{-1} X^Ty$$\n",
    "\n",
    "substitution of $w = (X^X)^{-1}X^Ty$ in equation $$ w_p = P^{-1} w$$"
   ]
  },
  {
   "cell_type": "markdown",
   "metadata": {},
   "source": [
    "**Analytical proof**\n",
    "\n",
    "\n",
    "**What would be predicted values with 𝑤𝑃 ?**"
   ]
  },
  {
   "cell_type": "markdown",
   "metadata": {},
   "source": [
    "If  $$ a = Xw $$\n",
    "$$ a^{'} = X^{'}w_p $$\n",
    "\n",
    "where $$ X^{'} = XP $$\n",
    "\n",
    "and $$ w_p = P^{-1}w $$\n",
    "\n",
    "substite for $ X^{'}$ in $ X^{'} = XP $   $$ a^{'} = XP.P^{-1}w $$\n",
    "$$ a^{'} = XIw $$\n",
    "\n",
    "$$ a^{'} = Xw = a $$"
   ]
  },
  {
   "cell_type": "markdown",
   "metadata": {},
   "source": [
    "<div class=\"alert alert-block alert-danger\">\n",
    "<b>Reviewer's comment</b> <a class=\"tocSkip\"></a>\n",
    "\n",
    "I can't check it due to the problems with formatting. Could you, please, fix it? The best formatting you can use for mathematical equations is next one: \n",
    "\n",
    "$$\n",
    "w = (X^T X)^{-1} X^T y \\quad \\Rightarrow \\quad w_P = [(XP)^T XP]^{-1} (XP)^T y\n",
    "$$\n",
    "\n",
    "</div>"
   ]
  },
  {
   "cell_type": "markdown",
   "metadata": {},
   "source": [
    "<div class=\"alert alert-block alert-success\">\n",
    "<b>Reviewer's comment V2</b> <a class=\"tocSkip\"></a>\n",
    "\n",
    "Well done! Everything is correct\n",
    "\n",
    "</div>"
   ]
  },
  {
   "cell_type": "markdown",
   "metadata": {},
   "source": [
    "**What does that mean for the quality of linear regression if you measure it with RMSE?**"
   ]
  },
  {
   "cell_type": "markdown",
   "metadata": {},
   "source": [
    "Since 𝑎 ′ a ′ and 𝑎 a are the same, RMSE results from both original and transformed data are the same.\n",
    "\n",
    "Given that 𝑎 ′ a ′ (predicted values using the transformed weight vector 𝑤 𝑝 w p​) and 𝑎 a (predicted values using the original weight vector 𝑤 w) are identical, the transformation does not alter the predicted outcomes. Consequently, the RMSE, which measures the average magnitude of the prediction errors, remains unchanged between the original and transformed data. This indicates that the quality of the linear regression model, as assessed by RMSE, is preserved under the transformation."
   ]
  },
  {
   "cell_type": "markdown",
   "metadata": {},
   "source": [
    "## Test Linear Regression With Data Obfuscation"
   ]
  },
  {
   "cell_type": "markdown",
   "metadata": {},
   "source": [
    "Now, let's prove Linear Regression can work computationally with the chosen obfuscation transformation.\n",
    "\n",
    "Build a procedure or a class that runs Linear Regression optionally with the obfuscation. You can use either a ready implementation of Linear Regression from sciki-learn or your own.\n",
    "\n",
    "Run Linear Regression for the original data and the obfuscated one, compare the predicted values and the RMSE, $R^2$ metric values. Is there any difference?"
   ]
  },
  {
   "cell_type": "markdown",
   "metadata": {},
   "source": [
    "**Procedure**\n",
    "\n",
    "- Create a square matrix $P$ of random numbers.\n",
    "- Check that it is invertible. If not, repeat the first point until we get an invertible matrix.\n",
    "- <! your comment here !>\n",
    "- Use $XP$ as the new feature matrix"
   ]
  },
  {
   "cell_type": "code",
   "execution_count": 116,
   "metadata": {},
   "outputs": [
    {
     "data": {
      "text/plain": [
       "array([[0.77395605, 0.43887844, 0.85859792, 0.69736803],\n",
       "       [0.09417735, 0.97562235, 0.7611397 , 0.78606431],\n",
       "       [0.12811363, 0.45038594, 0.37079802, 0.92676499],\n",
       "       [0.64386512, 0.82276161, 0.4434142 , 0.22723872]])"
      ]
     },
     "execution_count": 116,
     "metadata": {},
     "output_type": "execute_result"
    }
   ],
   "source": [
    "rng = np.random.default_rng(seed=42)\n",
    "P = rng.random(size=(X.shape[1], X.shape[1]))\n",
    "P"
   ]
  },
  {
   "cell_type": "code",
   "execution_count": 117,
   "metadata": {},
   "outputs": [
    {
     "data": {
      "text/plain": [
       "array([[ 1.00000000e+00, -1.69848573e-16, -7.58122972e-17,\n",
       "        -1.13112497e-16],\n",
       "       [-6.94895396e-17,  1.00000000e+00, -7.10568689e-17,\n",
       "         3.59096970e-17],\n",
       "       [-1.21269339e-16, -8.01461326e-17,  1.00000000e+00,\n",
       "         4.30764008e-19],\n",
       "       [-3.60694539e-16, -5.55430227e-16,  3.08072404e-16,\n",
       "         1.00000000e+00]])"
      ]
     },
     "execution_count": 117,
     "metadata": {},
     "output_type": "execute_result"
    }
   ],
   "source": [
    "np.matmul(P,np.linalg.inv(P))"
   ]
  },
  {
   "cell_type": "code",
   "execution_count": 118,
   "metadata": {},
   "outputs": [],
   "source": [
    "col = ['gender', 'age', 'income', 'family_members']\n",
    "df_new = df[col]\n",
    "\n",
    "X = df_new.to_numpy()\n",
    "y = df['insurance_benefits'].to_numpy()"
   ]
  },
  {
   "cell_type": "code",
   "execution_count": 119,
   "metadata": {},
   "outputs": [
    {
     "name": "stdout",
     "output_type": "stream",
     "text": [
      "[ 0.14971429  0.0082117   0.30292778 -0.00258294 -0.01271039]\n",
      "RMSE: 0.34\n",
      "R2: 0.66\n"
     ]
    }
   ],
   "source": [
    "X_train, X_test, y_train, y_test = train_test_split(X, y, test_size=0.3, random_state=12345)\n",
    "\n",
    "lr = MyLinearRegression()\n",
    "\n",
    "lr.fit(X_train, y_train)\n",
    "print(lr.weights)\n",
    "\n",
    "y_test_pred = lr.predict(X_test)\n",
    "eval_regressor(y_test, y_test_pred)"
   ]
  },
  {
   "cell_type": "code",
   "execution_count": 120,
   "metadata": {},
   "outputs": [
    {
     "name": "stdout",
     "output_type": "stream",
     "text": [
      "[ 1.49714286e-01 -7.35005441e+01 -6.89988301e+01  3.62600019e+02\n",
      " -2.20105547e+02]\n",
      "RMSE: 0.34\n",
      "R2: 0.66\n"
     ]
    }
   ],
   "source": [
    "X_prime_new = X@P\n",
    "X_train, X_test, y_train, y_test = train_test_split(X_prime_new, y, test_size=0.3, random_state=12345)\n",
    "\n",
    "lr = MyLinearRegression()\n",
    "\n",
    "lr.fit(X_train, y_train)\n",
    "print(lr.weights)\n",
    "\n",
    "y_test_pred = lr.predict(X_test)\n",
    "eval_regressor(y_test, y_test_pred)"
   ]
  },
  {
   "cell_type": "markdown",
   "metadata": {},
   "source": [
    "Just as the was proven in the equation above, the results confirms the \n",
    "R2 and RMSE score to be the same, 0.66 and 0.34 respectively\n"
   ]
  },
  {
   "cell_type": "markdown",
   "metadata": {},
   "source": [
    "<div class=\"alert alert-block alert-success\">\n",
    "<b>Reviewer's comment</b> <a class=\"tocSkip\"></a>\n",
    "\n",
    "Well done here:)\n",
    "\n",
    "</div>"
   ]
  },
  {
   "cell_type": "markdown",
   "metadata": {},
   "source": [
    "# Conclusions"
   ]
  },
  {
   "cell_type": "markdown",
   "metadata": {},
   "source": [
    "The dataset contained no missing or null values. The mean and median ages are the same, but income is skewed negatively. Columns for gender and insurance benefits have binary values."
   ]
  },
  {
   "cell_type": "markdown",
   "metadata": {},
   "source": [
    "The effectiveness of the k-Nearest Neighbors (kNN) algorithm is influenced by the method used for distance calculation, with both Manhattan and Euclidean distances being commonly used. Data scaling is critical when applying kNN because it ensures that features with larger values do not dominate the distance calculations, thus maintaining the balance and accuracy of the model.\n",
    "\n",
    "Despite varying the value of 𝑘 k (the number of neighbors considered), the F1 score did not show significant variation, highlighting that increasing 𝑘 k had no substantial effect on the model's performance. The highest F1 score of 0.95 was achieved using scaled data with 𝑘 = 1 k=1, indicating that the model performed optimally under these conditions.\n",
    "\n",
    "In contrast, the Linear Regression model demonstrated consistent results regardless of whether the data was scaled or not. The RMSE scores for the Linear Regression model were 0.34 and 0.66, indicating similar predictive accuracy in both scenarios. This consistency was confirmed through obfuscating the data and re-evaluating the model, which still yielded the same results, with an RMSE of 0.34.\n",
    "\n",
    "Overall, these findings emphasize the importance of data scaling in kNN models, while also demonstrating that Linear Regression models can maintain performance irrespective of data scaling."
   ]
  },
  {
   "cell_type": "code",
   "execution_count": null,
   "metadata": {},
   "outputs": [],
   "source": []
  },
  {
   "cell_type": "markdown",
   "metadata": {},
   "source": [
    "# Checklist"
   ]
  },
  {
   "cell_type": "markdown",
   "metadata": {},
   "source": [
    "Type 'x' to check. Then press Shift+Enter."
   ]
  },
  {
   "cell_type": "markdown",
   "metadata": {},
   "source": [
    "- [x]  Jupyter Notebook is open\n",
    "- [ ]  Code is error free\n",
    "- [ ]  The cells are arranged in order of logic and execution\n",
    "- [ ]  Task 1 has been performed\n",
    "    - [ ]  There is the procedure that can return k similar customers for a given one\n",
    "    - [ ]  The procedure is tested for all four proposed combinations\n",
    "    - [ ]  The questions re the scaling/distances are answered\n",
    "- [ ]  Task 2 has been performed\n",
    "    - [ ]  The random classification model is built and tested for all for probability levels\n",
    "    - [ ]  The kNN classification model is built and tested for both the original data and the scaled one, the F1 metric is calculated.\n",
    "- [ ]  Task 3 has been performed\n",
    "    - [ ]  The linear tegression solution is implemented with matrix operations.\n",
    "    - [ ]  RMSE is calculated for the implemented solution.\n",
    "- [ ]  Task 4 has been performed\n",
    "    - [ ]  The data is obfuscated with a random and invertible matrix P\n",
    "    - [ ]  The obfuscated data is recoved, few examples are printed out\n",
    "    - [ ]  The analytical proof that the transformation does not affect RMSE is provided \n",
    "    - [ ]  The computational proof that the transformation does not affect RMSE is provided\n",
    "- [ ]  Conclusions have been made"
   ]
  },
  {
   "cell_type": "markdown",
   "metadata": {},
   "source": [
    "# Appendices \n",
    "\n",
    "## Appendix A: Writing Formulas in Jupyter Notebooks"
   ]
  },
  {
   "cell_type": "markdown",
   "metadata": {},
   "source": [
    "You can write formulas in your Jupyter Notebook in a markup language provided by a high-quality publishing system called $\\LaTeX$ (pronounced \"Lah-tech\"), and they will look like formulas in textbooks.\n",
    "\n",
    "To put a formula in a text, put the dollar sign (\\\\$) before and after the formula's text e.g. $\\frac{1}{2} \\times \\frac{3}{2} = \\frac{3}{4}$ or $y = x^2, x \\ge 1$.\n",
    "\n",
    "If a formula should be in its own paragraph, put the double dollar sign (\\\\$\\\\$) before and after the formula text e.g.\n",
    "\n",
    "$$\n",
    "\\bar{x} = \\frac{1}{n}\\sum_{i=1}^{n} x_i.\n",
    "$$\n",
    "\n",
    "The markup language of [LaTeX](https://en.wikipedia.org/wiki/LaTeX) is very popular among people who use formulas in their articles, books and texts. It can be complex but its basics are easy. Check this two page [cheatsheet](http://tug.ctan.org/info/undergradmath/undergradmath.pdf) for learning how to compose the most common formulas."
   ]
  },
  {
   "cell_type": "markdown",
   "metadata": {},
   "source": [
    "## Appendix B: Properties of Matrices"
   ]
  },
  {
   "cell_type": "markdown",
   "metadata": {},
   "source": [
    "Matrices have many properties in Linear Algebra. A few of them are listed here which can help with the analytical proof in this project."
   ]
  },
  {
   "cell_type": "markdown",
   "metadata": {},
   "source": [
    "<table>\n",
    "<tr>\n",
    "<td>Distributivity</td><td>$A(B+C)=AB+AC$</td>\n",
    "</tr>\n",
    "<tr>\n",
    "<td>Non-commutativity</td><td>$AB \\neq BA$</td>\n",
    "</tr>\n",
    "<tr>\n",
    "<td>Associative property of multiplication</td><td>$(AB)C = A(BC)$</td>\n",
    "</tr>\n",
    "<tr>\n",
    "<td>Multiplicative identity property</td><td>$IA = AI = A$</td>\n",
    "</tr>\n",
    "<tr>\n",
    "<td></td><td>$A^{-1}A = AA^{-1} = I$\n",
    "</td>\n",
    "</tr>    \n",
    "<tr>\n",
    "<td></td><td>$(AB)^{-1} = B^{-1}A^{-1}$</td>\n",
    "</tr>    \n",
    "<tr>\n",
    "<td>Reversivity of the transpose of a product of matrices,</td><td>$(AB)^T = B^TA^T$</td>\n",
    "</tr>    \n",
    "</table>"
   ]
  },
  {
   "cell_type": "code",
   "execution_count": null,
   "metadata": {},
   "outputs": [],
   "source": []
  }
 ],
 "metadata": {
  "ExecuteTimeLog": [
   {
    "duration": 5231,
    "start_time": "2024-07-17T15:50:23.542Z"
   },
   {
    "duration": 17,
    "start_time": "2024-07-17T15:50:28.776Z"
   },
   {
    "duration": 5,
    "start_time": "2024-07-17T15:50:46.549Z"
   },
   {
    "duration": 18,
    "start_time": "2024-07-17T15:50:52.116Z"
   },
   {
    "duration": 19,
    "start_time": "2024-07-17T15:51:04.469Z"
   },
   {
    "duration": 5,
    "start_time": "2024-07-17T15:51:50.405Z"
   },
   {
    "duration": 4,
    "start_time": "2024-07-17T15:51:55.141Z"
   },
   {
    "duration": 215,
    "start_time": "2024-07-17T15:52:10.279Z"
   },
   {
    "duration": 10,
    "start_time": "2024-07-17T15:52:17.847Z"
   },
   {
    "duration": 31,
    "start_time": "2024-07-17T15:52:51.428Z"
   },
   {
    "duration": 437,
    "start_time": "2024-07-17T15:53:27.030Z"
   },
   {
    "duration": 8,
    "start_time": "2024-07-17T15:57:18.504Z"
   },
   {
    "duration": 532,
    "start_time": "2024-07-17T15:57:54.949Z"
   },
   {
    "duration": 233,
    "start_time": "2024-07-17T16:24:31.834Z"
   },
   {
    "duration": 24,
    "start_time": "2024-07-17T16:24:50.203Z"
   },
   {
    "duration": 4,
    "start_time": "2024-07-17T16:25:06.230Z"
   },
   {
    "duration": 9,
    "start_time": "2024-07-17T16:25:06.790Z"
   },
   {
    "duration": 15,
    "start_time": "2024-07-17T16:25:11.446Z"
   },
   {
    "duration": 14,
    "start_time": "2024-07-17T16:25:12.567Z"
   },
   {
    "duration": 22,
    "start_time": "2024-07-17T16:25:14.790Z"
   },
   {
    "duration": 6,
    "start_time": "2024-07-17T16:26:27.687Z"
   },
   {
    "duration": 26,
    "start_time": "2024-07-17T16:26:30.715Z"
   },
   {
    "duration": 13,
    "start_time": "2024-07-17T16:26:31.817Z"
   },
   {
    "duration": 33,
    "start_time": "2024-07-17T16:26:33.275Z"
   },
   {
    "duration": 39,
    "start_time": "2024-07-17T16:26:40.823Z"
   },
   {
    "duration": 7,
    "start_time": "2024-07-17T16:27:15.034Z"
   },
   {
    "duration": 17,
    "start_time": "2024-07-17T16:27:18.886Z"
   },
   {
    "duration": 13,
    "start_time": "2024-07-17T16:27:19.415Z"
   },
   {
    "duration": 39,
    "start_time": "2024-07-17T16:27:20.887Z"
   },
   {
    "duration": 6,
    "start_time": "2024-07-17T16:27:37.656Z"
   },
   {
    "duration": 37,
    "start_time": "2024-07-17T16:27:41.800Z"
   },
   {
    "duration": 5,
    "start_time": "2024-07-17T16:27:58.103Z"
   },
   {
    "duration": 11,
    "start_time": "2024-07-17T16:27:58.902Z"
   },
   {
    "duration": 5,
    "start_time": "2024-07-17T16:27:59.574Z"
   },
   {
    "duration": 14,
    "start_time": "2024-07-17T16:27:59.993Z"
   },
   {
    "duration": 14,
    "start_time": "2024-07-17T16:28:00.534Z"
   },
   {
    "duration": 4,
    "start_time": "2024-07-17T16:28:04.088Z"
   },
   {
    "duration": 7,
    "start_time": "2024-07-17T16:28:04.536Z"
   },
   {
    "duration": 33,
    "start_time": "2024-07-17T16:28:05.144Z"
   },
   {
    "duration": 418,
    "start_time": "2024-07-17T16:28:05.818Z"
   },
   {
    "duration": 441,
    "start_time": "2024-07-17T16:28:09.178Z"
   },
   {
    "duration": 5117,
    "start_time": "2024-07-17T16:28:13.863Z"
   },
   {
    "duration": 3,
    "start_time": "2024-07-17T16:28:24.120Z"
   },
   {
    "duration": 6,
    "start_time": "2024-07-17T16:28:54.026Z"
   },
   {
    "duration": 14,
    "start_time": "2024-07-17T16:28:56.012Z"
   },
   {
    "duration": 13,
    "start_time": "2024-07-17T16:28:57.096Z"
   },
   {
    "duration": 37,
    "start_time": "2024-07-17T16:28:59.354Z"
   },
   {
    "duration": 36,
    "start_time": "2024-07-17T16:30:04.665Z"
   },
   {
    "duration": 7,
    "start_time": "2024-07-17T16:31:30.863Z"
   },
   {
    "duration": 41,
    "start_time": "2024-07-17T16:31:34.250Z"
   },
   {
    "duration": 6,
    "start_time": "2024-07-17T16:31:49.069Z"
   },
   {
    "duration": 46,
    "start_time": "2024-07-17T16:31:52.633Z"
   },
   {
    "duration": 37,
    "start_time": "2024-07-17T16:32:53.737Z"
   },
   {
    "duration": 7,
    "start_time": "2024-07-17T16:34:56.940Z"
   },
   {
    "duration": 15,
    "start_time": "2024-07-17T16:34:58.476Z"
   },
   {
    "duration": 19,
    "start_time": "2024-07-17T16:34:58.891Z"
   },
   {
    "duration": 40,
    "start_time": "2024-07-17T16:35:00.768Z"
   },
   {
    "duration": 6,
    "start_time": "2024-07-17T16:36:08.268Z"
   },
   {
    "duration": 17,
    "start_time": "2024-07-17T16:36:09.499Z"
   },
   {
    "duration": 14,
    "start_time": "2024-07-17T16:36:10.364Z"
   },
   {
    "duration": 39,
    "start_time": "2024-07-17T16:36:13.115Z"
   },
   {
    "duration": 7,
    "start_time": "2024-07-17T16:36:32.797Z"
   },
   {
    "duration": 14,
    "start_time": "2024-07-17T16:36:33.727Z"
   },
   {
    "duration": 15,
    "start_time": "2024-07-17T16:36:34.445Z"
   },
   {
    "duration": 147,
    "start_time": "2024-07-17T16:36:35.710Z"
   },
   {
    "duration": 6,
    "start_time": "2024-07-17T16:37:34.284Z"
   },
   {
    "duration": 16,
    "start_time": "2024-07-17T16:37:35.612Z"
   },
   {
    "duration": 16,
    "start_time": "2024-07-17T16:37:36.061Z"
   },
   {
    "duration": 36,
    "start_time": "2024-07-17T16:37:38.397Z"
   },
   {
    "duration": 6,
    "start_time": "2024-07-17T16:39:57.726Z"
   },
   {
    "duration": 16,
    "start_time": "2024-07-17T16:39:59.325Z"
   },
   {
    "duration": 15,
    "start_time": "2024-07-17T16:39:59.905Z"
   },
   {
    "duration": 46,
    "start_time": "2024-07-17T16:40:01.470Z"
   },
   {
    "duration": 8,
    "start_time": "2024-07-17T16:40:47.855Z"
   },
   {
    "duration": 14,
    "start_time": "2024-07-17T16:40:49.937Z"
   },
   {
    "duration": 14,
    "start_time": "2024-07-17T16:40:50.734Z"
   },
   {
    "duration": 41,
    "start_time": "2024-07-17T16:40:58.914Z"
   },
   {
    "duration": 6,
    "start_time": "2024-07-17T16:43:22.159Z"
   },
   {
    "duration": 15,
    "start_time": "2024-07-17T16:43:23.375Z"
   },
   {
    "duration": 13,
    "start_time": "2024-07-17T16:43:23.970Z"
   },
   {
    "duration": 44,
    "start_time": "2024-07-17T16:43:26.159Z"
   },
   {
    "duration": 6,
    "start_time": "2024-07-17T16:43:40.259Z"
   },
   {
    "duration": 17,
    "start_time": "2024-07-17T16:43:42.202Z"
   },
   {
    "duration": 14,
    "start_time": "2024-07-17T16:43:42.627Z"
   },
   {
    "duration": 39,
    "start_time": "2024-07-17T16:43:43.887Z"
   },
   {
    "duration": 38,
    "start_time": "2024-07-17T16:43:59.152Z"
   },
   {
    "duration": 4372,
    "start_time": "2024-07-17T16:44:21.716Z"
   },
   {
    "duration": 5,
    "start_time": "2024-07-17T16:44:56.357Z"
   },
   {
    "duration": 4070,
    "start_time": "2024-07-17T16:44:56.974Z"
   },
   {
    "duration": 6,
    "start_time": "2024-07-17T16:45:25.565Z"
   },
   {
    "duration": 14,
    "start_time": "2024-07-17T16:45:30.765Z"
   },
   {
    "duration": 5,
    "start_time": "2024-07-17T16:45:31.668Z"
   },
   {
    "duration": 16,
    "start_time": "2024-07-17T16:45:32.209Z"
   },
   {
    "duration": 15,
    "start_time": "2024-07-17T16:45:32.725Z"
   },
   {
    "duration": 5,
    "start_time": "2024-07-17T16:45:35.401Z"
   },
   {
    "duration": 8,
    "start_time": "2024-07-17T16:45:37.246Z"
   },
   {
    "duration": 30,
    "start_time": "2024-07-17T16:45:37.596Z"
   },
   {
    "duration": 403,
    "start_time": "2024-07-17T16:45:39.740Z"
   },
   {
    "duration": 421,
    "start_time": "2024-07-17T16:45:41.068Z"
   },
   {
    "duration": 5076,
    "start_time": "2024-07-17T16:45:46.694Z"
   },
   {
    "duration": 4,
    "start_time": "2024-07-17T16:46:00.261Z"
   },
   {
    "duration": 9,
    "start_time": "2024-07-17T16:46:03.764Z"
   },
   {
    "duration": 14,
    "start_time": "2024-07-17T16:46:06.292Z"
   },
   {
    "duration": 15,
    "start_time": "2024-07-17T16:46:08.638Z"
   },
   {
    "duration": 40,
    "start_time": "2024-07-17T16:46:11.540Z"
   },
   {
    "duration": 36,
    "start_time": "2024-07-17T16:46:20.205Z"
   },
   {
    "duration": 23,
    "start_time": "2024-07-17T17:06:02.331Z"
   },
   {
    "duration": 26,
    "start_time": "2024-07-17T17:06:19.861Z"
   },
   {
    "duration": 24,
    "start_time": "2024-07-17T17:06:30.408Z"
   },
   {
    "duration": 20,
    "start_time": "2024-07-17T17:06:49.719Z"
   },
   {
    "duration": 551,
    "start_time": "2024-07-17T17:06:52.711Z"
   },
   {
    "duration": 21,
    "start_time": "2024-07-17T17:07:41.714Z"
   },
   {
    "duration": 547,
    "start_time": "2024-07-17T17:07:48.108Z"
   },
   {
    "duration": 595,
    "start_time": "2024-07-17T17:08:30.968Z"
   },
   {
    "duration": 523,
    "start_time": "2024-07-17T17:38:09.273Z"
   },
   {
    "duration": 4,
    "start_time": "2024-07-17T17:38:21.675Z"
   },
   {
    "duration": 554,
    "start_time": "2024-07-17T17:38:40.535Z"
   },
   {
    "duration": 232,
    "start_time": "2024-07-17T17:39:13.112Z"
   },
   {
    "duration": 237,
    "start_time": "2024-07-17T17:39:29.833Z"
   },
   {
    "duration": 5669,
    "start_time": "2024-07-19T15:30:02.142Z"
   },
   {
    "duration": 5173,
    "start_time": "2024-07-19T15:30:07.815Z"
   },
   {
    "duration": 21,
    "start_time": "2024-07-19T15:30:12.992Z"
   },
   {
    "duration": 6,
    "start_time": "2024-07-19T15:30:13.027Z"
   },
   {
    "duration": 26,
    "start_time": "2024-07-19T15:30:13.038Z"
   },
   {
    "duration": 39,
    "start_time": "2024-07-19T15:30:13.073Z"
   },
   {
    "duration": 5,
    "start_time": "2024-07-19T15:30:13.115Z"
   },
   {
    "duration": 8,
    "start_time": "2024-07-19T15:30:13.124Z"
   },
   {
    "duration": 72,
    "start_time": "2024-07-19T15:30:13.138Z"
   },
   {
    "duration": 422,
    "start_time": "2024-07-19T15:30:13.217Z"
   },
   {
    "duration": 540,
    "start_time": "2024-07-19T15:30:13.643Z"
   },
   {
    "duration": 7220,
    "start_time": "2024-07-19T15:30:14.188Z"
   },
   {
    "duration": 5,
    "start_time": "2024-07-19T15:30:21.411Z"
   },
   {
    "duration": 10,
    "start_time": "2024-07-19T15:30:21.420Z"
   },
   {
    "duration": 15,
    "start_time": "2024-07-19T15:30:21.437Z"
   },
   {
    "duration": 48,
    "start_time": "2024-07-19T15:30:21.455Z"
   },
   {
    "duration": 40,
    "start_time": "2024-07-19T15:30:21.508Z"
   },
   {
    "duration": 71,
    "start_time": "2024-07-19T15:30:21.551Z"
   },
   {
    "duration": 27,
    "start_time": "2024-07-19T15:30:21.626Z"
   },
   {
    "duration": 57,
    "start_time": "2024-07-19T15:30:21.656Z"
   },
   {
    "duration": 854,
    "start_time": "2024-07-19T15:30:21.716Z"
   },
   {
    "duration": 857,
    "start_time": "2024-07-19T15:30:22.578Z"
   },
   {
    "duration": 275,
    "start_time": "2024-07-19T15:30:23.441Z"
   },
   {
    "duration": 325,
    "start_time": "2024-07-19T15:30:23.720Z"
   },
   {
    "duration": 19,
    "start_time": "2024-07-19T15:30:24.049Z"
   },
   {
    "duration": 0,
    "start_time": "2024-07-19T15:30:24.078Z"
   },
   {
    "duration": 0,
    "start_time": "2024-07-19T15:30:24.085Z"
   },
   {
    "duration": 0,
    "start_time": "2024-07-19T15:30:24.087Z"
   },
   {
    "duration": 0,
    "start_time": "2024-07-19T15:30:24.090Z"
   },
   {
    "duration": 1,
    "start_time": "2024-07-19T15:30:24.097Z"
   },
   {
    "duration": 0,
    "start_time": "2024-07-19T15:30:24.103Z"
   },
   {
    "duration": 0,
    "start_time": "2024-07-19T15:30:24.105Z"
   },
   {
    "duration": 0,
    "start_time": "2024-07-19T15:30:24.108Z"
   },
   {
    "duration": 0,
    "start_time": "2024-07-19T15:30:24.111Z"
   },
   {
    "duration": 0,
    "start_time": "2024-07-19T15:30:24.113Z"
   },
   {
    "duration": 1389,
    "start_time": "2024-07-19T15:38:05.666Z"
   },
   {
    "duration": 89,
    "start_time": "2024-07-19T15:38:47.763Z"
   },
   {
    "duration": 82,
    "start_time": "2024-07-19T15:39:24.788Z"
   },
   {
    "duration": 6,
    "start_time": "2024-07-19T15:39:50.147Z"
   },
   {
    "duration": 32,
    "start_time": "2024-07-19T15:44:09.924Z"
   },
   {
    "duration": 9,
    "start_time": "2024-07-19T15:44:39.800Z"
   },
   {
    "duration": 5,
    "start_time": "2024-07-19T15:45:04.296Z"
   },
   {
    "duration": 4,
    "start_time": "2024-07-19T15:45:19.658Z"
   },
   {
    "duration": 31,
    "start_time": "2024-07-19T16:11:38.356Z"
   },
   {
    "duration": 12,
    "start_time": "2024-07-19T16:11:49.796Z"
   },
   {
    "duration": 79,
    "start_time": "2024-07-19T16:12:55.525Z"
   },
   {
    "duration": 8,
    "start_time": "2024-07-19T16:42:26.342Z"
   },
   {
    "duration": 5,
    "start_time": "2024-07-19T16:42:32.832Z"
   },
   {
    "duration": 7,
    "start_time": "2024-07-19T16:43:10.363Z"
   },
   {
    "duration": 837,
    "start_time": "2024-07-19T16:43:27.973Z"
   },
   {
    "duration": 10,
    "start_time": "2024-07-19T16:48:28.619Z"
   },
   {
    "duration": 5,
    "start_time": "2024-07-19T16:49:17.945Z"
   },
   {
    "duration": 9,
    "start_time": "2024-07-19T16:49:25.515Z"
   },
   {
    "duration": 42,
    "start_time": "2024-07-19T16:49:30.936Z"
   },
   {
    "duration": 24,
    "start_time": "2024-07-19T16:59:47.342Z"
   },
   {
    "duration": 6,
    "start_time": "2024-07-19T17:00:18.686Z"
   },
   {
    "duration": 30,
    "start_time": "2024-07-19T17:03:17.747Z"
   },
   {
    "duration": 28,
    "start_time": "2024-07-19T17:03:24.881Z"
   },
   {
    "duration": 27,
    "start_time": "2024-07-19T17:03:31.793Z"
   },
   {
    "duration": 30,
    "start_time": "2024-07-19T17:03:35.588Z"
   },
   {
    "duration": 8,
    "start_time": "2024-07-19T17:03:55.923Z"
   },
   {
    "duration": 942,
    "start_time": "2024-07-19T17:05:44.866Z"
   },
   {
    "duration": 7,
    "start_time": "2024-07-19T17:15:53.643Z"
   },
   {
    "duration": 5,
    "start_time": "2024-07-19T17:15:58.999Z"
   },
   {
    "duration": 23,
    "start_time": "2024-07-19T17:16:06.825Z"
   },
   {
    "duration": 26,
    "start_time": "2024-07-19T17:37:40.275Z"
   },
   {
    "duration": 5,
    "start_time": "2024-07-19T17:37:45.354Z"
   },
   {
    "duration": 4,
    "start_time": "2024-07-19T17:37:46.052Z"
   },
   {
    "duration": 7,
    "start_time": "2024-07-19T17:37:52.596Z"
   },
   {
    "duration": 9,
    "start_time": "2024-07-19T17:52:35.023Z"
   },
   {
    "duration": 80,
    "start_time": "2024-07-19T17:53:07.627Z"
   },
   {
    "duration": 6,
    "start_time": "2024-07-19T17:53:13.324Z"
   },
   {
    "duration": 7,
    "start_time": "2024-07-19T18:02:08.900Z"
   },
   {
    "duration": 10,
    "start_time": "2024-07-19T18:02:48.675Z"
   },
   {
    "duration": 6,
    "start_time": "2024-07-19T18:03:09.796Z"
   },
   {
    "duration": 8,
    "start_time": "2024-07-19T18:05:10.267Z"
   },
   {
    "duration": 7,
    "start_time": "2024-07-19T18:05:17.603Z"
   },
   {
    "duration": 7,
    "start_time": "2024-07-19T18:05:25.137Z"
   },
   {
    "duration": 14,
    "start_time": "2024-07-19T18:05:39.972Z"
   },
   {
    "duration": 11,
    "start_time": "2024-07-19T18:05:54.057Z"
   },
   {
    "duration": 4236,
    "start_time": "2024-07-20T16:50:38.811Z"
   },
   {
    "duration": 5344,
    "start_time": "2024-07-20T16:50:43.050Z"
   },
   {
    "duration": 15,
    "start_time": "2024-07-20T16:50:48.397Z"
   },
   {
    "duration": 5,
    "start_time": "2024-07-20T16:50:48.415Z"
   },
   {
    "duration": 19,
    "start_time": "2024-07-20T16:50:48.434Z"
   },
   {
    "duration": 14,
    "start_time": "2024-07-20T16:50:48.456Z"
   },
   {
    "duration": 5,
    "start_time": "2024-07-20T16:50:48.474Z"
   },
   {
    "duration": 7,
    "start_time": "2024-07-20T16:50:48.482Z"
   },
   {
    "duration": 67,
    "start_time": "2024-07-20T16:50:48.492Z"
   },
   {
    "duration": 447,
    "start_time": "2024-07-20T16:50:48.562Z"
   },
   {
    "duration": 533,
    "start_time": "2024-07-20T16:50:49.012Z"
   },
   {
    "duration": 4936,
    "start_time": "2024-07-20T16:50:49.549Z"
   },
   {
    "duration": 7,
    "start_time": "2024-07-20T16:50:54.489Z"
   },
   {
    "duration": 7,
    "start_time": "2024-07-20T16:50:54.505Z"
   },
   {
    "duration": 28,
    "start_time": "2024-07-20T16:50:54.515Z"
   },
   {
    "duration": 14,
    "start_time": "2024-07-20T16:50:54.546Z"
   },
   {
    "duration": 38,
    "start_time": "2024-07-20T16:50:54.564Z"
   },
   {
    "duration": 38,
    "start_time": "2024-07-20T16:50:54.634Z"
   },
   {
    "duration": 21,
    "start_time": "2024-07-20T16:50:54.675Z"
   },
   {
    "duration": 49,
    "start_time": "2024-07-20T16:50:54.699Z"
   },
   {
    "duration": 552,
    "start_time": "2024-07-20T16:50:54.751Z"
   },
   {
    "duration": 553,
    "start_time": "2024-07-20T16:50:55.305Z"
   },
   {
    "duration": 264,
    "start_time": "2024-07-20T16:50:55.861Z"
   },
   {
    "duration": 240,
    "start_time": "2024-07-20T16:50:56.132Z"
   },
   {
    "duration": 6,
    "start_time": "2024-07-20T16:50:56.374Z"
   },
   {
    "duration": 12,
    "start_time": "2024-07-20T16:50:56.383Z"
   },
   {
    "duration": 6,
    "start_time": "2024-07-20T16:50:56.398Z"
   },
   {
    "duration": 5,
    "start_time": "2024-07-20T16:50:56.433Z"
   },
   {
    "duration": 16,
    "start_time": "2024-07-20T16:50:56.442Z"
   },
   {
    "duration": 101,
    "start_time": "2024-07-20T16:50:56.461Z"
   },
   {
    "duration": 868,
    "start_time": "2024-07-20T16:50:56.565Z"
   },
   {
    "duration": 42,
    "start_time": "2024-07-20T16:50:57.435Z"
   },
   {
    "duration": 6,
    "start_time": "2024-07-20T16:50:57.480Z"
   },
   {
    "duration": 8,
    "start_time": "2024-07-20T16:50:57.490Z"
   },
   {
    "duration": 952,
    "start_time": "2024-07-20T16:50:57.501Z"
   },
   {
    "duration": 6,
    "start_time": "2024-07-20T16:50:58.456Z"
   },
   {
    "duration": 5,
    "start_time": "2024-07-20T16:50:58.465Z"
   },
   {
    "duration": 12,
    "start_time": "2024-07-20T16:50:58.473Z"
   },
   {
    "duration": 5,
    "start_time": "2024-07-20T16:50:58.533Z"
   },
   {
    "duration": 7,
    "start_time": "2024-07-20T16:50:58.541Z"
   },
   {
    "duration": 7,
    "start_time": "2024-07-20T16:50:58.632Z"
   },
   {
    "duration": 7,
    "start_time": "2024-07-20T16:50:58.643Z"
   },
   {
    "duration": 6,
    "start_time": "2024-07-20T16:50:58.654Z"
   },
   {
    "duration": 75,
    "start_time": "2024-07-20T16:50:58.663Z"
   },
   {
    "duration": 89,
    "start_time": "2024-07-20T16:50:58.744Z"
   },
   {
    "duration": 8,
    "start_time": "2024-07-20T16:50:58.836Z"
   },
   {
    "duration": 11,
    "start_time": "2024-07-20T16:50:58.848Z"
   },
   {
    "duration": 10,
    "start_time": "2024-07-20T16:50:58.932Z"
   },
   {
    "duration": 89,
    "start_time": "2024-07-20T16:50:58.949Z"
   },
   {
    "duration": 13,
    "start_time": "2024-07-20T16:50:59.044Z"
   },
   {
    "duration": 4483,
    "start_time": "2024-07-22T14:13:36.130Z"
   },
   {
    "duration": 5462,
    "start_time": "2024-07-22T14:13:40.616Z"
   },
   {
    "duration": 26,
    "start_time": "2024-07-22T14:13:46.081Z"
   },
   {
    "duration": 6,
    "start_time": "2024-07-22T14:13:46.112Z"
   },
   {
    "duration": 21,
    "start_time": "2024-07-22T14:13:46.122Z"
   },
   {
    "duration": 51,
    "start_time": "2024-07-22T14:13:46.147Z"
   },
   {
    "duration": 5,
    "start_time": "2024-07-22T14:13:46.201Z"
   },
   {
    "duration": 9,
    "start_time": "2024-07-22T14:13:46.210Z"
   },
   {
    "duration": 68,
    "start_time": "2024-07-22T14:13:46.224Z"
   },
   {
    "duration": 395,
    "start_time": "2024-07-22T14:13:46.298Z"
   },
   {
    "duration": 519,
    "start_time": "2024-07-22T14:13:46.696Z"
   },
   {
    "duration": 5233,
    "start_time": "2024-07-22T14:13:47.218Z"
   },
   {
    "duration": 5,
    "start_time": "2024-07-22T14:13:52.455Z"
   },
   {
    "duration": 9,
    "start_time": "2024-07-22T14:13:52.464Z"
   },
   {
    "duration": 27,
    "start_time": "2024-07-22T14:13:52.476Z"
   },
   {
    "duration": 31,
    "start_time": "2024-07-22T14:13:52.507Z"
   },
   {
    "duration": 64,
    "start_time": "2024-07-22T14:13:52.541Z"
   },
   {
    "duration": 40,
    "start_time": "2024-07-22T14:13:52.609Z"
   },
   {
    "duration": 54,
    "start_time": "2024-07-22T14:13:52.652Z"
   },
   {
    "duration": 23,
    "start_time": "2024-07-22T14:13:52.710Z"
   },
   {
    "duration": 616,
    "start_time": "2024-07-22T14:13:52.745Z"
   },
   {
    "duration": 589,
    "start_time": "2024-07-22T14:13:53.364Z"
   },
   {
    "duration": 275,
    "start_time": "2024-07-22T14:13:53.957Z"
   },
   {
    "duration": 259,
    "start_time": "2024-07-22T14:13:54.236Z"
   },
   {
    "duration": 6,
    "start_time": "2024-07-22T14:13:54.499Z"
   },
   {
    "duration": 11,
    "start_time": "2024-07-22T14:13:54.509Z"
   },
   {
    "duration": 6,
    "start_time": "2024-07-22T14:13:54.524Z"
   },
   {
    "duration": 52,
    "start_time": "2024-07-22T14:13:54.539Z"
   },
   {
    "duration": 13,
    "start_time": "2024-07-22T14:13:54.594Z"
   },
   {
    "duration": 103,
    "start_time": "2024-07-22T14:13:54.611Z"
   },
   {
    "duration": 1142,
    "start_time": "2024-07-22T14:13:54.717Z"
   },
   {
    "duration": 58,
    "start_time": "2024-07-22T14:13:55.862Z"
   },
   {
    "duration": 5,
    "start_time": "2024-07-22T14:13:55.923Z"
   },
   {
    "duration": 12,
    "start_time": "2024-07-22T14:13:55.932Z"
   },
   {
    "duration": 924,
    "start_time": "2024-07-22T14:13:55.947Z"
   },
   {
    "duration": 22,
    "start_time": "2024-07-22T14:13:56.876Z"
   },
   {
    "duration": 6,
    "start_time": "2024-07-22T14:13:56.902Z"
   },
   {
    "duration": 21,
    "start_time": "2024-07-22T14:13:56.911Z"
   },
   {
    "duration": 58,
    "start_time": "2024-07-22T14:13:56.936Z"
   },
   {
    "duration": 10,
    "start_time": "2024-07-22T14:13:56.997Z"
   },
   {
    "duration": 83,
    "start_time": "2024-07-22T14:13:57.010Z"
   },
   {
    "duration": 12,
    "start_time": "2024-07-22T14:13:57.097Z"
   },
   {
    "duration": 78,
    "start_time": "2024-07-22T14:13:57.113Z"
   },
   {
    "duration": 8,
    "start_time": "2024-07-22T14:13:57.194Z"
   },
   {
    "duration": 86,
    "start_time": "2024-07-22T14:13:57.205Z"
   },
   {
    "duration": 13,
    "start_time": "2024-07-22T14:13:57.294Z"
   },
   {
    "duration": 88,
    "start_time": "2024-07-22T14:13:57.310Z"
   },
   {
    "duration": 11,
    "start_time": "2024-07-22T14:13:57.403Z"
   },
   {
    "duration": 11,
    "start_time": "2024-07-22T14:13:57.492Z"
   },
   {
    "duration": 10,
    "start_time": "2024-07-22T14:13:57.507Z"
   },
   {
    "duration": 8,
    "start_time": "2024-07-22T14:42:27.845Z"
   },
   {
    "duration": 7,
    "start_time": "2024-07-22T14:43:04.988Z"
   },
   {
    "duration": 4,
    "start_time": "2024-07-22T14:50:02.439Z"
   },
   {
    "duration": 558,
    "start_time": "2024-07-22T14:52:10.346Z"
   },
   {
    "duration": 8,
    "start_time": "2024-07-22T14:55:47.039Z"
   },
   {
    "duration": 5,
    "start_time": "2024-07-22T14:55:49.404Z"
   },
   {
    "duration": 46,
    "start_time": "2024-07-22T14:55:50.122Z"
   },
   {
    "duration": 7,
    "start_time": "2024-07-22T14:56:08.019Z"
   },
   {
    "duration": 41,
    "start_time": "2024-07-22T14:56:10.971Z"
   },
   {
    "duration": 5,
    "start_time": "2024-07-22T14:57:29.740Z"
   },
   {
    "duration": 189,
    "start_time": "2024-07-22T14:57:41.004Z"
   },
   {
    "duration": 6,
    "start_time": "2024-07-22T14:58:35.229Z"
   },
   {
    "duration": 191,
    "start_time": "2024-07-22T14:58:36.205Z"
   },
   {
    "duration": 5,
    "start_time": "2024-07-22T14:59:11.392Z"
   },
   {
    "duration": 113,
    "start_time": "2024-07-22T14:59:12.502Z"
   },
   {
    "duration": 4,
    "start_time": "2024-07-22T15:00:14.510Z"
   },
   {
    "duration": 16,
    "start_time": "2024-07-22T15:00:15.759Z"
   },
   {
    "duration": 4002,
    "start_time": "2024-07-22T16:00:47.527Z"
   },
   {
    "duration": 6,
    "start_time": "2024-07-22T16:00:51.532Z"
   },
   {
    "duration": 13,
    "start_time": "2024-07-22T16:00:51.542Z"
   },
   {
    "duration": 4,
    "start_time": "2024-07-22T16:00:51.560Z"
   },
   {
    "duration": 15,
    "start_time": "2024-07-22T16:00:51.567Z"
   },
   {
    "duration": 16,
    "start_time": "2024-07-22T16:00:51.585Z"
   },
   {
    "duration": 5,
    "start_time": "2024-07-22T16:00:51.604Z"
   },
   {
    "duration": 9,
    "start_time": "2024-07-22T16:00:51.612Z"
   },
   {
    "duration": 66,
    "start_time": "2024-07-22T16:00:51.624Z"
   },
   {
    "duration": 386,
    "start_time": "2024-07-22T16:00:51.698Z"
   },
   {
    "duration": 430,
    "start_time": "2024-07-22T16:00:52.090Z"
   },
   {
    "duration": 5132,
    "start_time": "2024-07-22T16:00:52.525Z"
   },
   {
    "duration": 4,
    "start_time": "2024-07-22T16:00:57.660Z"
   },
   {
    "duration": 23,
    "start_time": "2024-07-22T16:00:57.668Z"
   },
   {
    "duration": 16,
    "start_time": "2024-07-22T16:00:57.694Z"
   },
   {
    "duration": 15,
    "start_time": "2024-07-22T16:00:57.713Z"
   },
   {
    "duration": 73,
    "start_time": "2024-07-22T16:00:57.731Z"
   },
   {
    "duration": 37,
    "start_time": "2024-07-22T16:00:57.808Z"
   },
   {
    "duration": 52,
    "start_time": "2024-07-22T16:00:57.848Z"
   },
   {
    "duration": 22,
    "start_time": "2024-07-22T16:00:57.903Z"
   },
   {
    "duration": 564,
    "start_time": "2024-07-22T16:00:57.929Z"
   },
   {
    "duration": 606,
    "start_time": "2024-07-22T16:00:58.497Z"
   },
   {
    "duration": 259,
    "start_time": "2024-07-22T16:00:59.106Z"
   },
   {
    "duration": 255,
    "start_time": "2024-07-22T16:00:59.369Z"
   },
   {
    "duration": 7,
    "start_time": "2024-07-22T16:00:59.627Z"
   },
   {
    "duration": 10,
    "start_time": "2024-07-22T16:00:59.637Z"
   },
   {
    "duration": 5,
    "start_time": "2024-07-22T16:00:59.653Z"
   },
   {
    "duration": 5,
    "start_time": "2024-07-22T16:00:59.692Z"
   },
   {
    "duration": 15,
    "start_time": "2024-07-22T16:00:59.700Z"
   },
   {
    "duration": 114,
    "start_time": "2024-07-22T16:00:59.718Z"
   },
   {
    "duration": 861,
    "start_time": "2024-07-22T16:00:59.836Z"
   },
   {
    "duration": 46,
    "start_time": "2024-07-22T16:01:00.700Z"
   },
   {
    "duration": 7,
    "start_time": "2024-07-22T16:01:00.749Z"
   },
   {
    "duration": 9,
    "start_time": "2024-07-22T16:01:00.789Z"
   },
   {
    "duration": 953,
    "start_time": "2024-07-22T16:01:00.801Z"
   },
   {
    "duration": 7,
    "start_time": "2024-07-22T16:01:01.758Z"
   },
   {
    "duration": 6,
    "start_time": "2024-07-22T16:01:01.768Z"
   },
   {
    "duration": 19,
    "start_time": "2024-07-22T16:01:01.791Z"
   },
   {
    "duration": 86,
    "start_time": "2024-07-22T16:01:01.812Z"
   },
   {
    "duration": 7,
    "start_time": "2024-07-22T16:01:01.905Z"
   },
   {
    "duration": 15,
    "start_time": "2024-07-22T16:01:01.992Z"
   },
   {
    "duration": 77,
    "start_time": "2024-07-22T16:01:02.012Z"
   },
   {
    "duration": 8,
    "start_time": "2024-07-22T16:01:02.093Z"
   },
   {
    "duration": 9,
    "start_time": "2024-07-22T16:01:02.104Z"
   },
   {
    "duration": 78,
    "start_time": "2024-07-22T16:01:02.116Z"
   },
   {
    "duration": 9,
    "start_time": "2024-07-22T16:01:02.198Z"
   },
   {
    "duration": 84,
    "start_time": "2024-07-22T16:01:02.210Z"
   },
   {
    "duration": 12,
    "start_time": "2024-07-22T16:01:02.301Z"
   },
   {
    "duration": 8,
    "start_time": "2024-07-22T16:01:02.392Z"
   },
   {
    "duration": 6,
    "start_time": "2024-07-22T16:01:02.404Z"
   },
   {
    "duration": 7,
    "start_time": "2024-07-22T16:01:02.414Z"
   },
   {
    "duration": 16,
    "start_time": "2024-07-22T16:01:02.492Z"
   },
   {
    "duration": 84,
    "start_time": "2024-07-22T16:01:02.515Z"
   }
  ],
  "kernelspec": {
   "display_name": "Python 3 (ipykernel)",
   "language": "python",
   "name": "python3"
  },
  "language_info": {
   "codemirror_mode": {
    "name": "ipython",
    "version": 3
   },
   "file_extension": ".py",
   "mimetype": "text/x-python",
   "name": "python",
   "nbconvert_exporter": "python",
   "pygments_lexer": "ipython3",
   "version": "3.9.19"
  },
  "toc": {
   "base_numbering": 1,
   "nav_menu": {},
   "number_sections": true,
   "sideBar": true,
   "skip_h1_title": true,
   "title_cell": "Table of Contents",
   "title_sidebar": "Contents",
   "toc_cell": false,
   "toc_position": {},
   "toc_section_display": true,
   "toc_window_display": false
  }
 },
 "nbformat": 4,
 "nbformat_minor": 4
}
